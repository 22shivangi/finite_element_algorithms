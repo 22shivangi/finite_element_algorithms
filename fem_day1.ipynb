{
 "cells": [
  {
   "cell_type": "markdown",
   "metadata": {},
   "source": [
    "## 1. Vector Exercises"
   ]
  },
  {
   "cell_type": "code",
   "execution_count": 1,
   "metadata": {},
   "outputs": [],
   "source": [
    "using Printf\n",
    "using LinearAlgebra\n",
    "using Plots\n",
    "#using PyPlot\n",
    "using SparseArrays"
   ]
  },
  {
   "cell_type": "markdown",
   "metadata": {},
   "source": [
    "#### Exercise 1.1 : given the column vector a = [10; 20; 30], retrieve (or print to screen) first, first two, last (using the end keyword) and last two elements; "
   ]
  },
  {
   "cell_type": "code",
   "execution_count": 10,
   "metadata": {},
   "outputs": [
    {
     "data": {
      "text/plain": [
       "3-element Array{Int64,1}:\n",
       " 10\n",
       " 20\n",
       " 30"
      ]
     },
     "execution_count": 10,
     "metadata": {},
     "output_type": "execute_result"
    }
   ],
   "source": [
    "a = [10,20,30]"
   ]
  },
  {
   "cell_type": "code",
   "execution_count": 11,
   "metadata": {},
   "outputs": [
    {
     "name": "stdout",
     "output_type": "stream",
     "text": [
      "10 is first element\n",
      "10 is first element, 20 is second element\n",
      "30 is last element\n",
      "30 is last element, 20 is second to last element\n"
     ]
    }
   ],
   "source": [
    "@printf(\"%d is first element\\n\", a[1])\n",
    "@printf(\"%d is first element, %d is second element\\n\", a[1],a[2])\n",
    "@printf(\"%d is last element\\n\", a[end])\n",
    "@printf(\"%d is last element, %d is second to last element\\n\", a[end],a[end-1])"
   ]
  },
  {
   "cell_type": "markdown",
   "metadata": {},
   "source": [
    "#### Exercise 1.2 : compare the syntax of a = [10 20 30] and a = [10; 20; 30]; "
   ]
  },
  {
   "cell_type": "code",
   "execution_count": 12,
   "metadata": {},
   "outputs": [
    {
     "data": {
      "text/plain": [
       "1×3 Array{Int64,2}:\n",
       " 10  20  30"
      ]
     },
     "execution_count": 12,
     "metadata": {},
     "output_type": "execute_result"
    }
   ],
   "source": [
    "# If you leave out the commas when defining an array, you can create 2D arrays\n",
    "a1 = [10 20 30]"
   ]
  },
  {
   "cell_type": "code",
   "execution_count": 13,
   "metadata": {},
   "outputs": [
    {
     "data": {
      "text/plain": [
       "3-element Array{Int64,1}:\n",
       " 10\n",
       " 20\n",
       " 30"
      ]
     },
     "execution_count": 13,
     "metadata": {},
     "output_type": "execute_result"
    }
   ],
   "source": [
    "a2 = [10; 20; 30]"
   ]
  },
  {
   "cell_type": "markdown",
   "metadata": {},
   "source": [
    "#### Exercise 1.3 : use the function ones (zeros) to form the vector with all three components equal to one (zero). See “help zeros” and “help ones” for details; "
   ]
  },
  {
   "cell_type": "code",
   "execution_count": 14,
   "metadata": {},
   "outputs": [
    {
     "data": {
      "text/plain": [
       "3-element Array{Int64,1}:\n",
       " 0\n",
       " 0\n",
       " 0"
      ]
     },
     "execution_count": 14,
     "metadata": {},
     "output_type": "execute_result"
    }
   ],
   "source": [
    "zeros(Int64,3)"
   ]
  },
  {
   "cell_type": "code",
   "execution_count": 15,
   "metadata": {},
   "outputs": [
    {
     "data": {
      "text/plain": [
       "3×3 Array{Int64,2}:\n",
       " 1  1  1\n",
       " 1  1  1\n",
       " 1  1  1"
      ]
     },
     "execution_count": 15,
     "metadata": {},
     "output_type": "execute_result"
    }
   ],
   "source": [
    "ones(Int64,3,3)"
   ]
  },
  {
   "cell_type": "markdown",
   "metadata": {},
   "source": [
    "#### Exercise 1.4 : given the column vector a = [10; 20; 30], compute the new vector 3*a; "
   ]
  },
  {
   "cell_type": "code",
   "execution_count": 16,
   "metadata": {},
   "outputs": [
    {
     "name": "stdout",
     "output_type": "stream",
     "text": [
      "[30, 60, 90]\n"
     ]
    }
   ],
   "source": [
    "a = [10; 20; 30]\n",
    "b = 3*a\n",
    "println(b)"
   ]
  },
  {
   "cell_type": "markdown",
   "metadata": {},
   "source": [
    "#### Exercise 1.5 : given the column vector a = [10; 20; 30], compute the min, max and norm of the vector a; "
   ]
  },
  {
   "cell_type": "code",
   "execution_count": 17,
   "metadata": {},
   "outputs": [
    {
     "name": "stdout",
     "output_type": "stream",
     "text": [
      "Minimum is 10\n",
      "Maximum is 30\n",
      "Norm is 37.416573867739416\n"
     ]
    }
   ],
   "source": [
    "a = [10, 20, 30]\n",
    "println(\"Minimum is \",minimum(a))\n",
    "println(\"Maximum is \",maximum(a))\n",
    "println(\"Norm is \",norm(a))"
   ]
  },
  {
   "cell_type": "markdown",
   "metadata": {},
   "source": [
    "#### Exercise 1.6 : given the column vector a = [10; 20; 30] and the column vector b = [.1 ; .2 ;  .3], compute the new vector a+b; "
   ]
  },
  {
   "cell_type": "code",
   "execution_count": 18,
   "metadata": {},
   "outputs": [
    {
     "name": "stdout",
     "output_type": "stream",
     "text": [
      "[10.1, 20.2, 30.3]\n"
     ]
    }
   ],
   "source": [
    "a = [10; 20; 30] \n",
    "b = [.1 ; .2 ;  .3]\n",
    "c = a+b\n",
    "println(c)"
   ]
  },
  {
   "cell_type": "markdown",
   "metadata": {},
   "source": [
    "#### Exercise 1.7 : given the column vector a = [10; 20; 30] and the column vector b = [.1 ; .2 ;  .3], compute the inner product of a and b using the multiplication of two matrices; "
   ]
  },
  {
   "cell_type": "code",
   "execution_count": 19,
   "metadata": {},
   "outputs": [
    {
     "data": {
      "text/plain": [
       "14.0"
      ]
     },
     "execution_count": 19,
     "metadata": {},
     "output_type": "execute_result"
    }
   ],
   "source": [
    "a = [10; 20; 30] \n",
    "b = [.1 ; .2 ;  .3]\n",
    "dot(a,b)"
   ]
  },
  {
   "cell_type": "markdown",
   "metadata": {},
   "source": [
    "#### Exercise 1.8 : given the column vector a = [10; 20; 30] and the column vector b = [.1 ; .2 ;  .3], compute pointwise multiplication of a and b; "
   ]
  },
  {
   "cell_type": "code",
   "execution_count": 20,
   "metadata": {},
   "outputs": [
    {
     "data": {
      "text/plain": [
       "3-element Array{Float64,1}:\n",
       " 1.0\n",
       " 4.0\n",
       " 9.0"
      ]
     },
     "execution_count": 20,
     "metadata": {},
     "output_type": "execute_result"
    }
   ],
   "source": [
    "a = [10; 20; 30]\n",
    "b = [.1; .2;.3]\n",
    "a .* b"
   ]
  },
  {
   "cell_type": "markdown",
   "metadata": {},
   "source": [
    "#### Exercise 1.9 : given the column vector a = [10; 20; 30] and the column vector b = [.1 ; .2 ;  .3], compute the matrix a*transpose(b); Give the size of this matrix. Explain your findings; "
   ]
  },
  {
   "cell_type": "code",
   "execution_count": 21,
   "metadata": {},
   "outputs": [
    {
     "data": {
      "text/plain": [
       "3×3 Array{Float64,2}:\n",
       " 1.0  2.0  3.0\n",
       " 2.0  4.0  6.0\n",
       " 3.0  6.0  9.0"
      ]
     },
     "execution_count": 21,
     "metadata": {},
     "output_type": "execute_result"
    }
   ],
   "source": [
    "a = [10; 20; 30]\n",
    "b = [.1; .2;.3]\n",
    "b_n = transpose(b)\n",
    "a*b_n"
   ]
  },
  {
   "cell_type": "markdown",
   "metadata": {},
   "source": [
    "## 2. Plotting Vectors"
   ]
  },
  {
   "cell_type": "code",
   "execution_count": 2,
   "metadata": {},
   "outputs": [
    {
     "data": {
      "image/svg+xml": [
       "<?xml version=\"1.0\" encoding=\"utf-8\"?>\n",
       "<svg xmlns=\"http://www.w3.org/2000/svg\" xmlns:xlink=\"http://www.w3.org/1999/xlink\" width=\"600\" height=\"400\" viewBox=\"0 0 2400 1600\">\n",
       "<defs>\n",
       "  <clipPath id=\"clip5500\">\n",
       "    <rect x=\"0\" y=\"0\" width=\"2000\" height=\"2000\"/>\n",
       "  </clipPath>\n",
       "</defs>\n",
       "<defs>\n",
       "  <clipPath id=\"clip5501\">\n",
       "    <rect x=\"0\" y=\"0\" width=\"2400\" height=\"1600\"/>\n",
       "  </clipPath>\n",
       "</defs>\n",
       "<polygon clip-path=\"url(#clip5501)\" points=\"\n",
       "0,1600 2400,1600 2400,0 0,0 \n",
       "  \" fill=\"#ffffff\" fill-rule=\"evenodd\" fill-opacity=\"1\"/>\n",
       "<defs>\n",
       "  <clipPath id=\"clip5502\">\n",
       "    <rect x=\"480\" y=\"0\" width=\"1681\" height=\"1600\"/>\n",
       "  </clipPath>\n",
       "</defs>\n",
       "<polygon clip-path=\"url(#clip5501)\" points=\"\n",
       "211.005,1440.48 2321.26,1440.48 2321.26,125.984 211.005,125.984 \n",
       "  \" fill=\"#ffffff\" fill-rule=\"evenodd\" fill-opacity=\"1\"/>\n",
       "<defs>\n",
       "  <clipPath id=\"clip5503\">\n",
       "    <rect x=\"211\" y=\"125\" width=\"2111\" height=\"1315\"/>\n",
       "  </clipPath>\n",
       "</defs>\n",
       "<polyline clip-path=\"url(#clip5503)\" style=\"stroke:#000000; stroke-width:2; stroke-opacity:0.1; fill:none\" points=\"\n",
       "  270.729,1440.48 270.729,125.984 \n",
       "  \"/>\n",
       "<polyline clip-path=\"url(#clip5503)\" style=\"stroke:#000000; stroke-width:2; stroke-opacity:0.1; fill:none\" points=\"\n",
       "  768.431,1440.48 768.431,125.984 \n",
       "  \"/>\n",
       "<polyline clip-path=\"url(#clip5503)\" style=\"stroke:#000000; stroke-width:2; stroke-opacity:0.1; fill:none\" points=\"\n",
       "  1266.13,1440.48 1266.13,125.984 \n",
       "  \"/>\n",
       "<polyline clip-path=\"url(#clip5503)\" style=\"stroke:#000000; stroke-width:2; stroke-opacity:0.1; fill:none\" points=\"\n",
       "  1763.83,1440.48 1763.83,125.984 \n",
       "  \"/>\n",
       "<polyline clip-path=\"url(#clip5503)\" style=\"stroke:#000000; stroke-width:2; stroke-opacity:0.1; fill:none\" points=\"\n",
       "  2261.54,1440.48 2261.54,125.984 \n",
       "  \"/>\n",
       "<polyline clip-path=\"url(#clip5503)\" style=\"stroke:#000000; stroke-width:2; stroke-opacity:0.1; fill:none\" points=\"\n",
       "  211.005,1403.28 2321.26,1403.28 \n",
       "  \"/>\n",
       "<polyline clip-path=\"url(#clip5503)\" style=\"stroke:#000000; stroke-width:2; stroke-opacity:0.1; fill:none\" points=\"\n",
       "  211.005,1093.26 2321.26,1093.26 \n",
       "  \"/>\n",
       "<polyline clip-path=\"url(#clip5503)\" style=\"stroke:#000000; stroke-width:2; stroke-opacity:0.1; fill:none\" points=\"\n",
       "  211.005,783.233 2321.26,783.233 \n",
       "  \"/>\n",
       "<polyline clip-path=\"url(#clip5503)\" style=\"stroke:#000000; stroke-width:2; stroke-opacity:0.1; fill:none\" points=\"\n",
       "  211.005,473.21 2321.26,473.21 \n",
       "  \"/>\n",
       "<polyline clip-path=\"url(#clip5503)\" style=\"stroke:#000000; stroke-width:2; stroke-opacity:0.1; fill:none\" points=\"\n",
       "  211.005,163.187 2321.26,163.187 \n",
       "  \"/>\n",
       "<polyline clip-path=\"url(#clip5501)\" style=\"stroke:#000000; stroke-width:4; stroke-opacity:1; fill:none\" points=\"\n",
       "  211.005,1440.48 2321.26,1440.48 \n",
       "  \"/>\n",
       "<polyline clip-path=\"url(#clip5501)\" style=\"stroke:#000000; stroke-width:4; stroke-opacity:1; fill:none\" points=\"\n",
       "  211.005,1440.48 211.005,125.984 \n",
       "  \"/>\n",
       "<polyline clip-path=\"url(#clip5501)\" style=\"stroke:#000000; stroke-width:4; stroke-opacity:1; fill:none\" points=\"\n",
       "  270.729,1440.48 270.729,1420.77 \n",
       "  \"/>\n",
       "<polyline clip-path=\"url(#clip5501)\" style=\"stroke:#000000; stroke-width:4; stroke-opacity:1; fill:none\" points=\"\n",
       "  768.431,1440.48 768.431,1420.77 \n",
       "  \"/>\n",
       "<polyline clip-path=\"url(#clip5501)\" style=\"stroke:#000000; stroke-width:4; stroke-opacity:1; fill:none\" points=\"\n",
       "  1266.13,1440.48 1266.13,1420.77 \n",
       "  \"/>\n",
       "<polyline clip-path=\"url(#clip5501)\" style=\"stroke:#000000; stroke-width:4; stroke-opacity:1; fill:none\" points=\"\n",
       "  1763.83,1440.48 1763.83,1420.77 \n",
       "  \"/>\n",
       "<polyline clip-path=\"url(#clip5501)\" style=\"stroke:#000000; stroke-width:4; stroke-opacity:1; fill:none\" points=\"\n",
       "  2261.54,1440.48 2261.54,1420.77 \n",
       "  \"/>\n",
       "<polyline clip-path=\"url(#clip5501)\" style=\"stroke:#000000; stroke-width:4; stroke-opacity:1; fill:none\" points=\"\n",
       "  211.005,1403.28 242.659,1403.28 \n",
       "  \"/>\n",
       "<polyline clip-path=\"url(#clip5501)\" style=\"stroke:#000000; stroke-width:4; stroke-opacity:1; fill:none\" points=\"\n",
       "  211.005,1093.26 242.659,1093.26 \n",
       "  \"/>\n",
       "<polyline clip-path=\"url(#clip5501)\" style=\"stroke:#000000; stroke-width:4; stroke-opacity:1; fill:none\" points=\"\n",
       "  211.005,783.233 242.659,783.233 \n",
       "  \"/>\n",
       "<polyline clip-path=\"url(#clip5501)\" style=\"stroke:#000000; stroke-width:4; stroke-opacity:1; fill:none\" points=\"\n",
       "  211.005,473.21 242.659,473.21 \n",
       "  \"/>\n",
       "<polyline clip-path=\"url(#clip5501)\" style=\"stroke:#000000; stroke-width:4; stroke-opacity:1; fill:none\" points=\"\n",
       "  211.005,163.187 242.659,163.187 \n",
       "  \"/>\n",
       "<g clip-path=\"url(#clip5501)\">\n",
       "<text style=\"fill:#000000; fill-opacity:1; font-family:Arial,Helvetica Neue,Helvetica,sans-serif; font-size:48px; text-anchor:middle;\" transform=\"rotate(0, 270.729, 1494.48)\" x=\"270.729\" y=\"1494.48\">1.0</text>\n",
       "</g>\n",
       "<g clip-path=\"url(#clip5501)\">\n",
       "<text style=\"fill:#000000; fill-opacity:1; font-family:Arial,Helvetica Neue,Helvetica,sans-serif; font-size:48px; text-anchor:middle;\" transform=\"rotate(0, 768.431, 1494.48)\" x=\"768.431\" y=\"1494.48\">1.5</text>\n",
       "</g>\n",
       "<g clip-path=\"url(#clip5501)\">\n",
       "<text style=\"fill:#000000; fill-opacity:1; font-family:Arial,Helvetica Neue,Helvetica,sans-serif; font-size:48px; text-anchor:middle;\" transform=\"rotate(0, 1266.13, 1494.48)\" x=\"1266.13\" y=\"1494.48\">2.0</text>\n",
       "</g>\n",
       "<g clip-path=\"url(#clip5501)\">\n",
       "<text style=\"fill:#000000; fill-opacity:1; font-family:Arial,Helvetica Neue,Helvetica,sans-serif; font-size:48px; text-anchor:middle;\" transform=\"rotate(0, 1763.83, 1494.48)\" x=\"1763.83\" y=\"1494.48\">2.5</text>\n",
       "</g>\n",
       "<g clip-path=\"url(#clip5501)\">\n",
       "<text style=\"fill:#000000; fill-opacity:1; font-family:Arial,Helvetica Neue,Helvetica,sans-serif; font-size:48px; text-anchor:middle;\" transform=\"rotate(0, 2261.54, 1494.48)\" x=\"2261.54\" y=\"1494.48\">3.0</text>\n",
       "</g>\n",
       "<g clip-path=\"url(#clip5501)\">\n",
       "<text style=\"fill:#000000; fill-opacity:1; font-family:Arial,Helvetica Neue,Helvetica,sans-serif; font-size:48px; text-anchor:end;\" transform=\"rotate(0, 187.005, 1420.78)\" x=\"187.005\" y=\"1420.78\">10</text>\n",
       "</g>\n",
       "<g clip-path=\"url(#clip5501)\">\n",
       "<text style=\"fill:#000000; fill-opacity:1; font-family:Arial,Helvetica Neue,Helvetica,sans-serif; font-size:48px; text-anchor:end;\" transform=\"rotate(0, 187.005, 1110.76)\" x=\"187.005\" y=\"1110.76\">15</text>\n",
       "</g>\n",
       "<g clip-path=\"url(#clip5501)\">\n",
       "<text style=\"fill:#000000; fill-opacity:1; font-family:Arial,Helvetica Neue,Helvetica,sans-serif; font-size:48px; text-anchor:end;\" transform=\"rotate(0, 187.005, 800.733)\" x=\"187.005\" y=\"800.733\">20</text>\n",
       "</g>\n",
       "<g clip-path=\"url(#clip5501)\">\n",
       "<text style=\"fill:#000000; fill-opacity:1; font-family:Arial,Helvetica Neue,Helvetica,sans-serif; font-size:48px; text-anchor:end;\" transform=\"rotate(0, 187.005, 490.71)\" x=\"187.005\" y=\"490.71\">25</text>\n",
       "</g>\n",
       "<g clip-path=\"url(#clip5501)\">\n",
       "<text style=\"fill:#000000; fill-opacity:1; font-family:Arial,Helvetica Neue,Helvetica,sans-serif; font-size:48px; text-anchor:end;\" transform=\"rotate(0, 187.005, 180.687)\" x=\"187.005\" y=\"180.687\">30</text>\n",
       "</g>\n",
       "<g clip-path=\"url(#clip5501)\">\n",
       "<text style=\"fill:#000000; fill-opacity:1; font-family:Arial,Helvetica Neue,Helvetica,sans-serif; font-size:84px; text-anchor:middle;\" transform=\"rotate(0, 1266.13, 73.2)\" x=\"1266.13\" y=\"73.2\">Sample Lines</text>\n",
       "</g>\n",
       "<g clip-path=\"url(#clip5501)\">\n",
       "<text style=\"fill:#000000; fill-opacity:1; font-family:Arial,Helvetica Neue,Helvetica,sans-serif; font-size:66px; text-anchor:middle;\" transform=\"rotate(0, 1266.13, 1590.4)\" x=\"1266.13\" y=\"1590.4\">xlabel</text>\n",
       "</g>\n",
       "<g clip-path=\"url(#clip5501)\">\n",
       "<text style=\"fill:#000000; fill-opacity:1; font-family:Arial,Helvetica Neue,Helvetica,sans-serif; font-size:66px; text-anchor:middle;\" transform=\"rotate(-90, 57.6, 783.233)\" x=\"57.6\" y=\"783.233\">ylabel</text>\n",
       "</g>\n",
       "<polyline clip-path=\"url(#clip5503)\" style=\"stroke:#009af9; stroke-width:12; stroke-opacity:1; fill:none\" points=\"\n",
       "  270.729,1403.28 1266.13,783.233 2261.54,163.187 \n",
       "  \"/>\n",
       "<circle clip-path=\"url(#clip5503)\" style=\"fill:#000000; stroke:none; fill-opacity:1\" cx=\"270.729\" cy=\"1403.28\" r=\"25\"/>\n",
       "<circle clip-path=\"url(#clip5503)\" style=\"fill:#ffa500; stroke:none; fill-opacity:1\" cx=\"270.729\" cy=\"1403.28\" r=\"21\"/>\n",
       "<circle clip-path=\"url(#clip5503)\" style=\"fill:#000000; stroke:none; fill-opacity:1\" cx=\"1266.13\" cy=\"783.233\" r=\"25\"/>\n",
       "<circle clip-path=\"url(#clip5503)\" style=\"fill:#ffa500; stroke:none; fill-opacity:1\" cx=\"1266.13\" cy=\"783.233\" r=\"21\"/>\n",
       "<circle clip-path=\"url(#clip5503)\" style=\"fill:#000000; stroke:none; fill-opacity:1\" cx=\"2261.54\" cy=\"163.187\" r=\"25\"/>\n",
       "<circle clip-path=\"url(#clip5503)\" style=\"fill:#ffa500; stroke:none; fill-opacity:1\" cx=\"2261.54\" cy=\"163.187\" r=\"21\"/>\n",
       "<polygon clip-path=\"url(#clip5501)\" points=\"\n",
       "1958.43,390.944 2249.26,390.944 2249.26,209.504 1958.43,209.504 \n",
       "  \" fill=\"#ffffff\" fill-rule=\"evenodd\" fill-opacity=\"1\"/>\n",
       "<polyline clip-path=\"url(#clip5501)\" style=\"stroke:#000000; stroke-width:4; stroke-opacity:1; fill:none\" points=\"\n",
       "  1958.43,390.944 2249.26,390.944 2249.26,209.504 1958.43,209.504 1958.43,390.944 \n",
       "  \"/>\n",
       "<polyline clip-path=\"url(#clip5501)\" style=\"stroke:#009af9; stroke-width:12; stroke-opacity:1; fill:none\" points=\"\n",
       "  1982.43,269.984 2126.43,269.984 \n",
       "  \"/>\n",
       "<g clip-path=\"url(#clip5501)\">\n",
       "<text style=\"fill:#000000; fill-opacity:1; font-family:Arial,Helvetica Neue,Helvetica,sans-serif; font-size:48px; text-anchor:start;\" transform=\"rotate(0, 2150.43, 287.484)\" x=\"2150.43\" y=\"287.484\">y1</text>\n",
       "</g>\n",
       "<circle clip-path=\"url(#clip5501)\" style=\"fill:#000000; stroke:none; fill-opacity:1\" cx=\"2066.43\" cy=\"330.464\" r=\"25\"/>\n",
       "<circle clip-path=\"url(#clip5501)\" style=\"fill:#ffa500; stroke:none; fill-opacity:1\" cx=\"2066.43\" cy=\"330.464\" r=\"21\"/>\n",
       "<g clip-path=\"url(#clip5501)\">\n",
       "<text style=\"fill:#000000; fill-opacity:1; font-family:Arial,Helvetica Neue,Helvetica,sans-serif; font-size:48px; text-anchor:start;\" transform=\"rotate(0, 2150.43, 347.964)\" x=\"2150.43\" y=\"347.964\">y2</text>\n",
       "</g>\n",
       "</svg>\n"
      ]
     },
     "execution_count": 2,
     "metadata": {},
     "output_type": "execute_result"
    }
   ],
   "source": [
    "a = [10; 20; 30]\n",
    "x = [1; 2; 3]\n",
    "plot(x,a,title=\"Sample Lines\",lw=3,xlabel = \"xlabel\",ylabel = \"ylabel\")\n",
    "scatter!(x,a, markersize=6, c=:orange)"
   ]
  },
  {
   "cell_type": "markdown",
   "metadata": {},
   "source": [
    "#### Exercise 2.1 : Given the column vector a = [10; 20; 30], plot this vector (using the plot function) using various line types and symbols; type “help plot” to the various possibilities that the plot function offers; Create the vector x = [0:pi/100:2*pi] and the vector y = sin(x). Next plot the sin-function using plot(x,y). Add an x-axis label, y-axis label and a title to this plot. Next create the vector x1 = [0 pi/2 pi 3*pi/4 2*pi] and the vector y1 = sin(x1). Use the function “hold on” and “hold off” (see “help hold on”) to superimpose the plot of y1 vs. x1 on the previous plot; "
   ]
  },
  {
   "cell_type": "code",
   "execution_count": 2,
   "metadata": {},
   "outputs": [
    {
     "data": {
      "image/svg+xml": [
       "<?xml version=\"1.0\" encoding=\"utf-8\"?>\n",
       "<svg xmlns=\"http://www.w3.org/2000/svg\" xmlns:xlink=\"http://www.w3.org/1999/xlink\" width=\"600\" height=\"400\" viewBox=\"0 0 2400 1600\">\n",
       "<defs>\n",
       "  <clipPath id=\"clip1700\">\n",
       "    <rect x=\"0\" y=\"0\" width=\"2000\" height=\"2000\"/>\n",
       "  </clipPath>\n",
       "</defs>\n",
       "<defs>\n",
       "  <clipPath id=\"clip1701\">\n",
       "    <rect x=\"0\" y=\"0\" width=\"2400\" height=\"1600\"/>\n",
       "  </clipPath>\n",
       "</defs>\n",
       "<polygon clip-path=\"url(#clip1701)\" points=\"\n",
       "0,1600 2400,1600 2400,0 0,0 \n",
       "  \" fill=\"#ffffff\" fill-rule=\"evenodd\" fill-opacity=\"1\"/>\n",
       "<defs>\n",
       "  <clipPath id=\"clip1702\">\n",
       "    <rect x=\"480\" y=\"0\" width=\"1681\" height=\"1600\"/>\n",
       "  </clipPath>\n",
       "</defs>\n",
       "<polygon clip-path=\"url(#clip1701)\" points=\"\n",
       "252.496,1440.48 2321.26,1440.48 2321.26,125.984 252.496,125.984 \n",
       "  \" fill=\"#ffffff\" fill-rule=\"evenodd\" fill-opacity=\"1\"/>\n",
       "<defs>\n",
       "  <clipPath id=\"clip1703\">\n",
       "    <rect x=\"252\" y=\"125\" width=\"2070\" height=\"1315\"/>\n",
       "  </clipPath>\n",
       "</defs>\n",
       "<polyline clip-path=\"url(#clip1703)\" style=\"stroke:#000000; stroke-width:2; stroke-opacity:0.1; fill:none\" points=\"\n",
       "  311.046,1440.48 311.046,125.984 \n",
       "  \"/>\n",
       "<polyline clip-path=\"url(#clip1703)\" style=\"stroke:#000000; stroke-width:2; stroke-opacity:0.1; fill:none\" points=\"\n",
       "  623.224,1440.48 623.224,125.984 \n",
       "  \"/>\n",
       "<polyline clip-path=\"url(#clip1703)\" style=\"stroke:#000000; stroke-width:2; stroke-opacity:0.1; fill:none\" points=\"\n",
       "  935.402,1440.48 935.402,125.984 \n",
       "  \"/>\n",
       "<polyline clip-path=\"url(#clip1703)\" style=\"stroke:#000000; stroke-width:2; stroke-opacity:0.1; fill:none\" points=\"\n",
       "  1247.58,1440.48 1247.58,125.984 \n",
       "  \"/>\n",
       "<polyline clip-path=\"url(#clip1703)\" style=\"stroke:#000000; stroke-width:2; stroke-opacity:0.1; fill:none\" points=\"\n",
       "  1559.76,1440.48 1559.76,125.984 \n",
       "  \"/>\n",
       "<polyline clip-path=\"url(#clip1703)\" style=\"stroke:#000000; stroke-width:2; stroke-opacity:0.1; fill:none\" points=\"\n",
       "  1871.94,1440.48 1871.94,125.984 \n",
       "  \"/>\n",
       "<polyline clip-path=\"url(#clip1703)\" style=\"stroke:#000000; stroke-width:2; stroke-opacity:0.1; fill:none\" points=\"\n",
       "  2184.11,1440.48 2184.11,125.984 \n",
       "  \"/>\n",
       "<polyline clip-path=\"url(#clip1703)\" style=\"stroke:#000000; stroke-width:2; stroke-opacity:0.1; fill:none\" points=\"\n",
       "  252.496,1403.28 2321.26,1403.28 \n",
       "  \"/>\n",
       "<polyline clip-path=\"url(#clip1703)\" style=\"stroke:#000000; stroke-width:2; stroke-opacity:0.1; fill:none\" points=\"\n",
       "  252.496,1093.26 2321.26,1093.26 \n",
       "  \"/>\n",
       "<polyline clip-path=\"url(#clip1703)\" style=\"stroke:#000000; stroke-width:2; stroke-opacity:0.1; fill:none\" points=\"\n",
       "  252.496,783.233 2321.26,783.233 \n",
       "  \"/>\n",
       "<polyline clip-path=\"url(#clip1703)\" style=\"stroke:#000000; stroke-width:2; stroke-opacity:0.1; fill:none\" points=\"\n",
       "  252.496,473.21 2321.26,473.21 \n",
       "  \"/>\n",
       "<polyline clip-path=\"url(#clip1703)\" style=\"stroke:#000000; stroke-width:2; stroke-opacity:0.1; fill:none\" points=\"\n",
       "  252.496,163.187 2321.26,163.187 \n",
       "  \"/>\n",
       "<polyline clip-path=\"url(#clip1701)\" style=\"stroke:#000000; stroke-width:4; stroke-opacity:1; fill:none\" points=\"\n",
       "  252.496,1440.48 2321.26,1440.48 \n",
       "  \"/>\n",
       "<polyline clip-path=\"url(#clip1701)\" style=\"stroke:#000000; stroke-width:4; stroke-opacity:1; fill:none\" points=\"\n",
       "  252.496,1440.48 252.496,125.984 \n",
       "  \"/>\n",
       "<polyline clip-path=\"url(#clip1701)\" style=\"stroke:#000000; stroke-width:4; stroke-opacity:1; fill:none\" points=\"\n",
       "  311.046,1440.48 311.046,1420.77 \n",
       "  \"/>\n",
       "<polyline clip-path=\"url(#clip1701)\" style=\"stroke:#000000; stroke-width:4; stroke-opacity:1; fill:none\" points=\"\n",
       "  623.224,1440.48 623.224,1420.77 \n",
       "  \"/>\n",
       "<polyline clip-path=\"url(#clip1701)\" style=\"stroke:#000000; stroke-width:4; stroke-opacity:1; fill:none\" points=\"\n",
       "  935.402,1440.48 935.402,1420.77 \n",
       "  \"/>\n",
       "<polyline clip-path=\"url(#clip1701)\" style=\"stroke:#000000; stroke-width:4; stroke-opacity:1; fill:none\" points=\"\n",
       "  1247.58,1440.48 1247.58,1420.77 \n",
       "  \"/>\n",
       "<polyline clip-path=\"url(#clip1701)\" style=\"stroke:#000000; stroke-width:4; stroke-opacity:1; fill:none\" points=\"\n",
       "  1559.76,1440.48 1559.76,1420.77 \n",
       "  \"/>\n",
       "<polyline clip-path=\"url(#clip1701)\" style=\"stroke:#000000; stroke-width:4; stroke-opacity:1; fill:none\" points=\"\n",
       "  1871.94,1440.48 1871.94,1420.77 \n",
       "  \"/>\n",
       "<polyline clip-path=\"url(#clip1701)\" style=\"stroke:#000000; stroke-width:4; stroke-opacity:1; fill:none\" points=\"\n",
       "  2184.11,1440.48 2184.11,1420.77 \n",
       "  \"/>\n",
       "<polyline clip-path=\"url(#clip1701)\" style=\"stroke:#000000; stroke-width:4; stroke-opacity:1; fill:none\" points=\"\n",
       "  252.496,1403.28 283.528,1403.28 \n",
       "  \"/>\n",
       "<polyline clip-path=\"url(#clip1701)\" style=\"stroke:#000000; stroke-width:4; stroke-opacity:1; fill:none\" points=\"\n",
       "  252.496,1093.26 283.528,1093.26 \n",
       "  \"/>\n",
       "<polyline clip-path=\"url(#clip1701)\" style=\"stroke:#000000; stroke-width:4; stroke-opacity:1; fill:none\" points=\"\n",
       "  252.496,783.233 283.528,783.233 \n",
       "  \"/>\n",
       "<polyline clip-path=\"url(#clip1701)\" style=\"stroke:#000000; stroke-width:4; stroke-opacity:1; fill:none\" points=\"\n",
       "  252.496,473.21 283.528,473.21 \n",
       "  \"/>\n",
       "<polyline clip-path=\"url(#clip1701)\" style=\"stroke:#000000; stroke-width:4; stroke-opacity:1; fill:none\" points=\"\n",
       "  252.496,163.187 283.528,163.187 \n",
       "  \"/>\n",
       "<g clip-path=\"url(#clip1701)\">\n",
       "<text style=\"fill:#000000; fill-opacity:1; font-family:Arial,Helvetica Neue,Helvetica,sans-serif; font-size:48px; text-anchor:middle;\" transform=\"rotate(0, 311.046, 1494.48)\" x=\"311.046\" y=\"1494.48\">0</text>\n",
       "</g>\n",
       "<g clip-path=\"url(#clip1701)\">\n",
       "<text style=\"fill:#000000; fill-opacity:1; font-family:Arial,Helvetica Neue,Helvetica,sans-serif; font-size:48px; text-anchor:middle;\" transform=\"rotate(0, 623.224, 1494.48)\" x=\"623.224\" y=\"1494.48\">1</text>\n",
       "</g>\n",
       "<g clip-path=\"url(#clip1701)\">\n",
       "<text style=\"fill:#000000; fill-opacity:1; font-family:Arial,Helvetica Neue,Helvetica,sans-serif; font-size:48px; text-anchor:middle;\" transform=\"rotate(0, 935.402, 1494.48)\" x=\"935.402\" y=\"1494.48\">2</text>\n",
       "</g>\n",
       "<g clip-path=\"url(#clip1701)\">\n",
       "<text style=\"fill:#000000; fill-opacity:1; font-family:Arial,Helvetica Neue,Helvetica,sans-serif; font-size:48px; text-anchor:middle;\" transform=\"rotate(0, 1247.58, 1494.48)\" x=\"1247.58\" y=\"1494.48\">3</text>\n",
       "</g>\n",
       "<g clip-path=\"url(#clip1701)\">\n",
       "<text style=\"fill:#000000; fill-opacity:1; font-family:Arial,Helvetica Neue,Helvetica,sans-serif; font-size:48px; text-anchor:middle;\" transform=\"rotate(0, 1559.76, 1494.48)\" x=\"1559.76\" y=\"1494.48\">4</text>\n",
       "</g>\n",
       "<g clip-path=\"url(#clip1701)\">\n",
       "<text style=\"fill:#000000; fill-opacity:1; font-family:Arial,Helvetica Neue,Helvetica,sans-serif; font-size:48px; text-anchor:middle;\" transform=\"rotate(0, 1871.94, 1494.48)\" x=\"1871.94\" y=\"1494.48\">5</text>\n",
       "</g>\n",
       "<g clip-path=\"url(#clip1701)\">\n",
       "<text style=\"fill:#000000; fill-opacity:1; font-family:Arial,Helvetica Neue,Helvetica,sans-serif; font-size:48px; text-anchor:middle;\" transform=\"rotate(0, 2184.11, 1494.48)\" x=\"2184.11\" y=\"1494.48\">6</text>\n",
       "</g>\n",
       "<g clip-path=\"url(#clip1701)\">\n",
       "<text style=\"fill:#000000; fill-opacity:1; font-family:Arial,Helvetica Neue,Helvetica,sans-serif; font-size:48px; text-anchor:end;\" transform=\"rotate(0, 228.496, 1420.78)\" x=\"228.496\" y=\"1420.78\">-1.0</text>\n",
       "</g>\n",
       "<g clip-path=\"url(#clip1701)\">\n",
       "<text style=\"fill:#000000; fill-opacity:1; font-family:Arial,Helvetica Neue,Helvetica,sans-serif; font-size:48px; text-anchor:end;\" transform=\"rotate(0, 228.496, 1110.76)\" x=\"228.496\" y=\"1110.76\">-0.5</text>\n",
       "</g>\n",
       "<g clip-path=\"url(#clip1701)\">\n",
       "<text style=\"fill:#000000; fill-opacity:1; font-family:Arial,Helvetica Neue,Helvetica,sans-serif; font-size:48px; text-anchor:end;\" transform=\"rotate(0, 228.496, 800.733)\" x=\"228.496\" y=\"800.733\">0.0</text>\n",
       "</g>\n",
       "<g clip-path=\"url(#clip1701)\">\n",
       "<text style=\"fill:#000000; fill-opacity:1; font-family:Arial,Helvetica Neue,Helvetica,sans-serif; font-size:48px; text-anchor:end;\" transform=\"rotate(0, 228.496, 490.71)\" x=\"228.496\" y=\"490.71\">0.5</text>\n",
       "</g>\n",
       "<g clip-path=\"url(#clip1701)\">\n",
       "<text style=\"fill:#000000; fill-opacity:1; font-family:Arial,Helvetica Neue,Helvetica,sans-serif; font-size:48px; text-anchor:end;\" transform=\"rotate(0, 228.496, 180.687)\" x=\"228.496\" y=\"180.687\">1.0</text>\n",
       "</g>\n",
       "<g clip-path=\"url(#clip1701)\">\n",
       "<text style=\"fill:#000000; fill-opacity:1; font-family:Arial,Helvetica Neue,Helvetica,sans-serif; font-size:84px; text-anchor:middle;\" transform=\"rotate(0, 1286.88, 73.2)\" x=\"1286.88\" y=\"73.2\">Sin x Graph</text>\n",
       "</g>\n",
       "<g clip-path=\"url(#clip1701)\">\n",
       "<text style=\"fill:#000000; fill-opacity:1; font-family:Arial,Helvetica Neue,Helvetica,sans-serif; font-size:66px; text-anchor:middle;\" transform=\"rotate(0, 1286.88, 1590.4)\" x=\"1286.88\" y=\"1590.4\">x</text>\n",
       "</g>\n",
       "<g clip-path=\"url(#clip1701)\">\n",
       "<text style=\"fill:#000000; fill-opacity:1; font-family:Arial,Helvetica Neue,Helvetica,sans-serif; font-size:66px; text-anchor:middle;\" transform=\"rotate(-90, 57.6, 783.233)\" x=\"57.6\" y=\"783.233\">sin x</text>\n",
       "</g>\n",
       "<polyline clip-path=\"url(#clip1703)\" style=\"stroke:#009af9; stroke-width:4; stroke-opacity:1; fill:none\" points=\"\n",
       "  311.046,783.233 320.854,763.757 330.661,744.3 340.468,724.882 350.276,705.521 360.083,686.237 369.89,667.048 379.698,647.974 389.505,629.034 399.312,610.246 \n",
       "  409.12,591.629 418.927,573.2 428.734,554.979 438.542,536.983 448.349,519.231 458.156,501.738 467.964,484.524 477.771,467.604 487.579,450.996 497.386,434.716 \n",
       "  507.193,418.779 517.001,403.203 526.808,388.001 536.615,373.189 546.423,358.782 556.23,344.794 566.037,331.239 575.845,318.13 585.652,305.479 595.459,293.301 \n",
       "  605.267,281.605 615.074,270.405 624.882,259.711 634.689,249.533 644.496,239.883 654.304,230.768 664.111,222.199 673.918,214.183 683.726,206.729 693.533,199.844 \n",
       "  703.34,193.534 713.148,187.807 722.955,182.667 732.762,178.12 742.57,174.17 752.377,170.821 762.185,168.076 771.992,165.939 781.799,164.411 791.607,163.493 \n",
       "  801.414,163.187 811.221,163.493 821.029,164.411 830.836,165.939 840.643,168.076 850.451,170.821 860.258,174.17 870.065,178.12 879.873,182.667 889.68,187.807 \n",
       "  899.487,193.534 909.295,199.844 919.102,206.729 928.91,214.183 938.717,222.199 948.524,230.768 958.332,239.883 968.139,249.533 977.946,259.711 987.754,270.405 \n",
       "  997.561,281.605 1007.37,293.301 1017.18,305.479 1026.98,318.13 1036.79,331.239 1046.6,344.794 1056.41,358.782 1066.21,373.189 1076.02,388.001 1085.83,403.203 \n",
       "  1095.63,418.779 1105.44,434.716 1115.25,450.996 1125.06,467.604 1134.86,484.524 1144.67,501.738 1154.48,519.231 1164.29,536.983 1174.09,554.979 1183.9,573.2 \n",
       "  1193.71,591.629 1203.52,610.246 1213.32,629.034 1223.13,647.974 1232.94,667.048 1242.74,686.237 1252.55,705.521 1262.36,724.882 1272.17,744.3 1281.97,763.757 \n",
       "  1291.78,783.233 1301.59,802.71 1311.4,822.166 1321.2,841.585 1331.01,860.946 1340.82,880.23 1350.63,899.419 1360.43,918.492 1370.24,937.433 1380.05,956.221 \n",
       "  1389.86,974.838 1399.66,993.267 1409.47,1011.49 1419.28,1029.48 1429.08,1047.24 1438.89,1064.73 1448.7,1081.94 1458.51,1098.86 1468.31,1115.47 1478.12,1131.75 \n",
       "  1487.93,1147.69 1497.74,1163.26 1507.54,1178.47 1517.35,1193.28 1527.16,1207.68 1536.97,1221.67 1546.77,1235.23 1556.58,1248.34 1566.39,1260.99 1576.2,1273.17 \n",
       "  1586,1284.86 1595.81,1296.06 1605.62,1306.76 1615.42,1316.93 1625.23,1326.58 1635.04,1335.7 1644.85,1344.27 1654.65,1352.28 1664.46,1359.74 1674.27,1366.62 \n",
       "  1684.08,1372.93 1693.88,1378.66 1703.69,1383.8 1713.5,1388.35 1723.31,1392.3 1733.11,1395.65 1742.92,1398.39 1752.73,1400.53 1762.53,1402.06 1772.34,1402.97 \n",
       "  1782.15,1403.28 1791.96,1402.97 1801.76,1402.06 1811.57,1400.53 1821.38,1398.39 1831.19,1395.65 1840.99,1392.3 1850.8,1388.35 1860.61,1383.8 1870.42,1378.66 \n",
       "  1880.22,1372.93 1890.03,1366.62 1899.84,1359.74 1909.65,1352.28 1919.45,1344.27 1929.26,1335.7 1939.07,1326.58 1948.87,1316.93 1958.68,1306.76 1968.49,1296.06 \n",
       "  1978.3,1284.86 1988.1,1273.17 1997.91,1260.99 2007.72,1248.34 2017.53,1235.23 2027.33,1221.67 2037.14,1207.68 2046.95,1193.28 2056.76,1178.47 2066.56,1163.26 \n",
       "  2076.37,1147.69 2086.18,1131.75 2095.98,1115.47 2105.79,1098.86 2115.6,1081.94 2125.41,1064.73 2135.21,1047.24 2145.02,1029.48 2154.83,1011.49 2164.64,993.267 \n",
       "  2174.44,974.838 2184.25,956.221 2194.06,937.433 2203.87,918.492 2213.67,899.419 2223.48,880.23 2233.29,860.946 2243.1,841.585 2252.9,822.166 2262.71,802.71 \n",
       "  \n",
       "  \"/>\n",
       "<polygon clip-path=\"url(#clip1701)\" points=\"\n",
       "1958.43,330.464 2249.26,330.464 2249.26,209.504 1958.43,209.504 \n",
       "  \" fill=\"#ffffff\" fill-rule=\"evenodd\" fill-opacity=\"1\"/>\n",
       "<polyline clip-path=\"url(#clip1701)\" style=\"stroke:#000000; stroke-width:4; stroke-opacity:1; fill:none\" points=\"\n",
       "  1958.43,330.464 2249.26,330.464 2249.26,209.504 1958.43,209.504 1958.43,330.464 \n",
       "  \"/>\n",
       "<polyline clip-path=\"url(#clip1701)\" style=\"stroke:#009af9; stroke-width:4; stroke-opacity:1; fill:none\" points=\"\n",
       "  1982.43,269.984 2126.43,269.984 \n",
       "  \"/>\n",
       "<g clip-path=\"url(#clip1701)\">\n",
       "<text style=\"fill:#000000; fill-opacity:1; font-family:Arial,Helvetica Neue,Helvetica,sans-serif; font-size:48px; text-anchor:start;\" transform=\"rotate(0, 2150.43, 287.484)\" x=\"2150.43\" y=\"287.484\">y1</text>\n",
       "</g>\n",
       "</svg>\n"
      ]
     },
     "execution_count": 2,
     "metadata": {},
     "output_type": "execute_result"
    }
   ],
   "source": [
    "x = (0:pi/100:2*pi)\n",
    "y = sin.(x)\n",
    "# :auto, :solid, :dash, :dot, :dashdot, :dashdotdot]\n",
    "plot(x,y,xlabel = \"x\",ylabel = \"sin x\",title=\"Sin x Graph\",linestyle=:solid)"
   ]
  },
  {
   "cell_type": "code",
   "execution_count": 12,
   "metadata": {},
   "outputs": [
    {
     "data": {
      "image/svg+xml": [
       "<?xml version=\"1.0\" encoding=\"utf-8\"?>\n",
       "<svg xmlns=\"http://www.w3.org/2000/svg\" xmlns:xlink=\"http://www.w3.org/1999/xlink\" width=\"600\" height=\"400\" viewBox=\"0 0 2400 1600\">\n",
       "<defs>\n",
       "  <clipPath id=\"clip6700\">\n",
       "    <rect x=\"0\" y=\"0\" width=\"2000\" height=\"2000\"/>\n",
       "  </clipPath>\n",
       "</defs>\n",
       "<defs>\n",
       "  <clipPath id=\"clip6701\">\n",
       "    <rect x=\"0\" y=\"0\" width=\"2400\" height=\"1600\"/>\n",
       "  </clipPath>\n",
       "</defs>\n",
       "<polygon clip-path=\"url(#clip6701)\" points=\"\n",
       "0,1600 2400,1600 2400,0 0,0 \n",
       "  \" fill=\"#ffffff\" fill-rule=\"evenodd\" fill-opacity=\"1\"/>\n",
       "<defs>\n",
       "  <clipPath id=\"clip6702\">\n",
       "    <rect x=\"480\" y=\"0\" width=\"1681\" height=\"1600\"/>\n",
       "  </clipPath>\n",
       "</defs>\n",
       "<polygon clip-path=\"url(#clip6701)\" points=\"\n",
       "252.496,1440.48 2321.26,1440.48 2321.26,125.984 252.496,125.984 \n",
       "  \" fill=\"#ffffff\" fill-rule=\"evenodd\" fill-opacity=\"1\"/>\n",
       "<defs>\n",
       "  <clipPath id=\"clip6703\">\n",
       "    <rect x=\"252\" y=\"125\" width=\"2070\" height=\"1315\"/>\n",
       "  </clipPath>\n",
       "</defs>\n",
       "<polyline clip-path=\"url(#clip6703)\" style=\"stroke:#000000; stroke-width:2; stroke-opacity:0.1; fill:none\" points=\"\n",
       "  311.046,1440.48 311.046,125.984 \n",
       "  \"/>\n",
       "<polyline clip-path=\"url(#clip6703)\" style=\"stroke:#000000; stroke-width:2; stroke-opacity:0.1; fill:none\" points=\"\n",
       "  621.663,1440.48 621.663,125.984 \n",
       "  \"/>\n",
       "<polyline clip-path=\"url(#clip6703)\" style=\"stroke:#000000; stroke-width:2; stroke-opacity:0.1; fill:none\" points=\"\n",
       "  932.28,1440.48 932.28,125.984 \n",
       "  \"/>\n",
       "<polyline clip-path=\"url(#clip6703)\" style=\"stroke:#000000; stroke-width:2; stroke-opacity:0.1; fill:none\" points=\"\n",
       "  1242.9,1440.48 1242.9,125.984 \n",
       "  \"/>\n",
       "<polyline clip-path=\"url(#clip6703)\" style=\"stroke:#000000; stroke-width:2; stroke-opacity:0.1; fill:none\" points=\"\n",
       "  1553.51,1440.48 1553.51,125.984 \n",
       "  \"/>\n",
       "<polyline clip-path=\"url(#clip6703)\" style=\"stroke:#000000; stroke-width:2; stroke-opacity:0.1; fill:none\" points=\"\n",
       "  1864.13,1440.48 1864.13,125.984 \n",
       "  \"/>\n",
       "<polyline clip-path=\"url(#clip6703)\" style=\"stroke:#000000; stroke-width:2; stroke-opacity:0.1; fill:none\" points=\"\n",
       "  2174.75,1440.48 2174.75,125.984 \n",
       "  \"/>\n",
       "<polyline clip-path=\"url(#clip6703)\" style=\"stroke:#000000; stroke-width:2; stroke-opacity:0.1; fill:none\" points=\"\n",
       "  252.496,1403.28 2321.26,1403.28 \n",
       "  \"/>\n",
       "<polyline clip-path=\"url(#clip6703)\" style=\"stroke:#000000; stroke-width:2; stroke-opacity:0.1; fill:none\" points=\"\n",
       "  252.496,1093.26 2321.26,1093.26 \n",
       "  \"/>\n",
       "<polyline clip-path=\"url(#clip6703)\" style=\"stroke:#000000; stroke-width:2; stroke-opacity:0.1; fill:none\" points=\"\n",
       "  252.496,783.233 2321.26,783.233 \n",
       "  \"/>\n",
       "<polyline clip-path=\"url(#clip6703)\" style=\"stroke:#000000; stroke-width:2; stroke-opacity:0.1; fill:none\" points=\"\n",
       "  252.496,473.21 2321.26,473.21 \n",
       "  \"/>\n",
       "<polyline clip-path=\"url(#clip6703)\" style=\"stroke:#000000; stroke-width:2; stroke-opacity:0.1; fill:none\" points=\"\n",
       "  252.496,163.187 2321.26,163.187 \n",
       "  \"/>\n",
       "<polyline clip-path=\"url(#clip6701)\" style=\"stroke:#000000; stroke-width:4; stroke-opacity:1; fill:none\" points=\"\n",
       "  252.496,1440.48 2321.26,1440.48 \n",
       "  \"/>\n",
       "<polyline clip-path=\"url(#clip6701)\" style=\"stroke:#000000; stroke-width:4; stroke-opacity:1; fill:none\" points=\"\n",
       "  252.496,1440.48 252.496,125.984 \n",
       "  \"/>\n",
       "<polyline clip-path=\"url(#clip6701)\" style=\"stroke:#000000; stroke-width:4; stroke-opacity:1; fill:none\" points=\"\n",
       "  311.046,1440.48 311.046,1420.77 \n",
       "  \"/>\n",
       "<polyline clip-path=\"url(#clip6701)\" style=\"stroke:#000000; stroke-width:4; stroke-opacity:1; fill:none\" points=\"\n",
       "  621.663,1440.48 621.663,1420.77 \n",
       "  \"/>\n",
       "<polyline clip-path=\"url(#clip6701)\" style=\"stroke:#000000; stroke-width:4; stroke-opacity:1; fill:none\" points=\"\n",
       "  932.28,1440.48 932.28,1420.77 \n",
       "  \"/>\n",
       "<polyline clip-path=\"url(#clip6701)\" style=\"stroke:#000000; stroke-width:4; stroke-opacity:1; fill:none\" points=\"\n",
       "  1242.9,1440.48 1242.9,1420.77 \n",
       "  \"/>\n",
       "<polyline clip-path=\"url(#clip6701)\" style=\"stroke:#000000; stroke-width:4; stroke-opacity:1; fill:none\" points=\"\n",
       "  1553.51,1440.48 1553.51,1420.77 \n",
       "  \"/>\n",
       "<polyline clip-path=\"url(#clip6701)\" style=\"stroke:#000000; stroke-width:4; stroke-opacity:1; fill:none\" points=\"\n",
       "  1864.13,1440.48 1864.13,1420.77 \n",
       "  \"/>\n",
       "<polyline clip-path=\"url(#clip6701)\" style=\"stroke:#000000; stroke-width:4; stroke-opacity:1; fill:none\" points=\"\n",
       "  2174.75,1440.48 2174.75,1420.77 \n",
       "  \"/>\n",
       "<polyline clip-path=\"url(#clip6701)\" style=\"stroke:#000000; stroke-width:4; stroke-opacity:1; fill:none\" points=\"\n",
       "  252.496,1403.28 283.528,1403.28 \n",
       "  \"/>\n",
       "<polyline clip-path=\"url(#clip6701)\" style=\"stroke:#000000; stroke-width:4; stroke-opacity:1; fill:none\" points=\"\n",
       "  252.496,1093.26 283.528,1093.26 \n",
       "  \"/>\n",
       "<polyline clip-path=\"url(#clip6701)\" style=\"stroke:#000000; stroke-width:4; stroke-opacity:1; fill:none\" points=\"\n",
       "  252.496,783.233 283.528,783.233 \n",
       "  \"/>\n",
       "<polyline clip-path=\"url(#clip6701)\" style=\"stroke:#000000; stroke-width:4; stroke-opacity:1; fill:none\" points=\"\n",
       "  252.496,473.21 283.528,473.21 \n",
       "  \"/>\n",
       "<polyline clip-path=\"url(#clip6701)\" style=\"stroke:#000000; stroke-width:4; stroke-opacity:1; fill:none\" points=\"\n",
       "  252.496,163.187 283.528,163.187 \n",
       "  \"/>\n",
       "<g clip-path=\"url(#clip6701)\">\n",
       "<text style=\"fill:#000000; fill-opacity:1; font-family:Arial,Helvetica Neue,Helvetica,sans-serif; font-size:48px; text-anchor:middle;\" transform=\"rotate(0, 311.046, 1494.48)\" x=\"311.046\" y=\"1494.48\">0</text>\n",
       "</g>\n",
       "<g clip-path=\"url(#clip6701)\">\n",
       "<text style=\"fill:#000000; fill-opacity:1; font-family:Arial,Helvetica Neue,Helvetica,sans-serif; font-size:48px; text-anchor:middle;\" transform=\"rotate(0, 621.663, 1494.48)\" x=\"621.663\" y=\"1494.48\">1</text>\n",
       "</g>\n",
       "<g clip-path=\"url(#clip6701)\">\n",
       "<text style=\"fill:#000000; fill-opacity:1; font-family:Arial,Helvetica Neue,Helvetica,sans-serif; font-size:48px; text-anchor:middle;\" transform=\"rotate(0, 932.28, 1494.48)\" x=\"932.28\" y=\"1494.48\">2</text>\n",
       "</g>\n",
       "<g clip-path=\"url(#clip6701)\">\n",
       "<text style=\"fill:#000000; fill-opacity:1; font-family:Arial,Helvetica Neue,Helvetica,sans-serif; font-size:48px; text-anchor:middle;\" transform=\"rotate(0, 1242.9, 1494.48)\" x=\"1242.9\" y=\"1494.48\">3</text>\n",
       "</g>\n",
       "<g clip-path=\"url(#clip6701)\">\n",
       "<text style=\"fill:#000000; fill-opacity:1; font-family:Arial,Helvetica Neue,Helvetica,sans-serif; font-size:48px; text-anchor:middle;\" transform=\"rotate(0, 1553.51, 1494.48)\" x=\"1553.51\" y=\"1494.48\">4</text>\n",
       "</g>\n",
       "<g clip-path=\"url(#clip6701)\">\n",
       "<text style=\"fill:#000000; fill-opacity:1; font-family:Arial,Helvetica Neue,Helvetica,sans-serif; font-size:48px; text-anchor:middle;\" transform=\"rotate(0, 1864.13, 1494.48)\" x=\"1864.13\" y=\"1494.48\">5</text>\n",
       "</g>\n",
       "<g clip-path=\"url(#clip6701)\">\n",
       "<text style=\"fill:#000000; fill-opacity:1; font-family:Arial,Helvetica Neue,Helvetica,sans-serif; font-size:48px; text-anchor:middle;\" transform=\"rotate(0, 2174.75, 1494.48)\" x=\"2174.75\" y=\"1494.48\">6</text>\n",
       "</g>\n",
       "<g clip-path=\"url(#clip6701)\">\n",
       "<text style=\"fill:#000000; fill-opacity:1; font-family:Arial,Helvetica Neue,Helvetica,sans-serif; font-size:48px; text-anchor:end;\" transform=\"rotate(0, 228.496, 1420.78)\" x=\"228.496\" y=\"1420.78\">-1.0</text>\n",
       "</g>\n",
       "<g clip-path=\"url(#clip6701)\">\n",
       "<text style=\"fill:#000000; fill-opacity:1; font-family:Arial,Helvetica Neue,Helvetica,sans-serif; font-size:48px; text-anchor:end;\" transform=\"rotate(0, 228.496, 1110.76)\" x=\"228.496\" y=\"1110.76\">-0.5</text>\n",
       "</g>\n",
       "<g clip-path=\"url(#clip6701)\">\n",
       "<text style=\"fill:#000000; fill-opacity:1; font-family:Arial,Helvetica Neue,Helvetica,sans-serif; font-size:48px; text-anchor:end;\" transform=\"rotate(0, 228.496, 800.733)\" x=\"228.496\" y=\"800.733\">0.0</text>\n",
       "</g>\n",
       "<g clip-path=\"url(#clip6701)\">\n",
       "<text style=\"fill:#000000; fill-opacity:1; font-family:Arial,Helvetica Neue,Helvetica,sans-serif; font-size:48px; text-anchor:end;\" transform=\"rotate(0, 228.496, 490.71)\" x=\"228.496\" y=\"490.71\">0.5</text>\n",
       "</g>\n",
       "<g clip-path=\"url(#clip6701)\">\n",
       "<text style=\"fill:#000000; fill-opacity:1; font-family:Arial,Helvetica Neue,Helvetica,sans-serif; font-size:48px; text-anchor:end;\" transform=\"rotate(0, 228.496, 180.687)\" x=\"228.496\" y=\"180.687\">1.0</text>\n",
       "</g>\n",
       "<g clip-path=\"url(#clip6701)\">\n",
       "<text style=\"fill:#000000; fill-opacity:1; font-family:Arial,Helvetica Neue,Helvetica,sans-serif; font-size:84px; text-anchor:middle;\" transform=\"rotate(0, 1286.88, 73.2)\" x=\"1286.88\" y=\"73.2\">Sin x Graph</text>\n",
       "</g>\n",
       "<g clip-path=\"url(#clip6701)\">\n",
       "<text style=\"fill:#000000; fill-opacity:1; font-family:Arial,Helvetica Neue,Helvetica,sans-serif; font-size:66px; text-anchor:middle;\" transform=\"rotate(0, 1286.88, 1590.4)\" x=\"1286.88\" y=\"1590.4\">x</text>\n",
       "</g>\n",
       "<g clip-path=\"url(#clip6701)\">\n",
       "<text style=\"fill:#000000; fill-opacity:1; font-family:Arial,Helvetica Neue,Helvetica,sans-serif; font-size:66px; text-anchor:middle;\" transform=\"rotate(-90, 57.6, 783.233)\" x=\"57.6\" y=\"783.233\">sin x</text>\n",
       "</g>\n",
       "<polyline clip-path=\"url(#clip6703)\" style=\"stroke:#009af9; stroke-width:4; stroke-opacity:1; fill:none\" stroke-dasharray=\"16, 10\" points=\"\n",
       "  311.046,783.233 320.804,763.757 330.563,744.3 340.321,724.882 350.079,705.521 359.838,686.237 369.596,667.048 379.354,647.974 389.113,629.034 398.871,610.246 \n",
       "  408.629,591.629 418.388,573.2 428.146,554.979 437.904,536.983 447.663,519.231 457.421,501.738 467.179,484.524 476.938,467.604 486.696,450.996 496.454,434.716 \n",
       "  506.213,418.779 515.971,403.203 525.729,388.001 535.487,373.189 545.246,358.782 555.004,344.794 564.762,331.239 574.521,318.13 584.279,305.479 594.037,293.301 \n",
       "  603.796,281.605 613.554,270.405 623.312,259.711 633.071,249.533 642.829,239.883 652.587,230.768 662.346,222.199 672.104,214.183 681.862,206.729 691.621,199.844 \n",
       "  701.379,193.534 711.137,187.807 720.896,182.667 730.654,178.12 740.412,174.17 750.171,170.821 759.929,168.076 769.687,165.939 779.445,164.411 789.204,163.493 \n",
       "  798.962,163.187 808.72,163.493 818.479,164.411 828.237,165.939 837.995,168.076 847.754,170.821 857.512,174.17 867.27,178.12 877.029,182.667 886.787,187.807 \n",
       "  896.545,193.534 906.304,199.844 916.062,206.729 925.82,214.183 935.579,222.199 945.337,230.768 955.095,239.883 964.854,249.533 974.612,259.711 984.37,270.405 \n",
       "  994.128,281.605 1003.89,293.301 1013.65,305.479 1023.4,318.13 1033.16,331.239 1042.92,344.794 1052.68,358.782 1062.44,373.189 1072.2,388.001 1081.95,403.203 \n",
       "  1091.71,418.779 1101.47,434.716 1111.23,450.996 1120.99,467.604 1130.74,484.524 1140.5,501.738 1150.26,519.231 1160.02,536.983 1169.78,554.979 1179.54,573.2 \n",
       "  1189.29,591.629 1199.05,610.246 1208.81,629.034 1218.57,647.974 1228.33,667.048 1238.09,686.237 1247.84,705.521 1257.6,724.882 1267.36,744.3 1277.12,763.757 \n",
       "  1286.88,783.233 1296.64,802.71 1306.39,822.166 1316.15,841.585 1325.91,860.946 1335.67,880.23 1345.43,899.419 1355.19,918.492 1364.94,937.433 1374.7,956.221 \n",
       "  1384.46,974.838 1394.22,993.267 1403.98,1011.49 1413.74,1029.48 1423.49,1047.24 1433.25,1064.73 1443.01,1081.94 1452.77,1098.86 1462.53,1115.47 1472.29,1131.75 \n",
       "  1482.04,1147.69 1491.8,1163.26 1501.56,1178.47 1511.32,1193.28 1521.08,1207.68 1530.84,1221.67 1540.59,1235.23 1550.35,1248.34 1560.11,1260.99 1569.87,1273.17 \n",
       "  1579.63,1284.86 1589.39,1296.06 1599.14,1306.76 1608.9,1316.93 1618.66,1326.58 1628.42,1335.7 1638.18,1344.27 1647.94,1352.28 1657.69,1359.74 1667.45,1366.62 \n",
       "  1677.21,1372.93 1686.97,1378.66 1696.73,1383.8 1706.49,1388.35 1716.24,1392.3 1726,1395.65 1735.76,1398.39 1745.52,1400.53 1755.28,1402.06 1765.04,1402.97 \n",
       "  1774.79,1403.28 1784.55,1402.97 1794.31,1402.06 1804.07,1400.53 1813.83,1398.39 1823.59,1395.65 1833.34,1392.3 1843.1,1388.35 1852.86,1383.8 1862.62,1378.66 \n",
       "  1872.38,1372.93 1882.14,1366.62 1891.89,1359.74 1901.65,1352.28 1911.41,1344.27 1921.17,1335.7 1930.93,1326.58 1940.69,1316.93 1950.44,1306.76 1960.2,1296.06 \n",
       "  1969.96,1284.86 1979.72,1273.17 1989.48,1260.99 1999.24,1248.34 2008.99,1235.23 2018.75,1221.67 2028.51,1207.68 2038.27,1193.28 2048.03,1178.47 2057.79,1163.26 \n",
       "  2067.54,1147.69 2077.3,1131.75 2087.06,1115.47 2096.82,1098.86 2106.58,1081.94 2116.34,1064.73 2126.09,1047.24 2135.85,1029.48 2145.61,1011.49 2155.37,993.267 \n",
       "  2165.13,974.838 2174.89,956.221 2184.64,937.433 2194.4,918.492 2204.16,899.419 2213.92,880.23 2223.68,860.946 2233.43,841.585 2243.19,822.166 2252.95,802.71 \n",
       "  \n",
       "  \"/>\n",
       "<polyline clip-path=\"url(#clip6703)\" style=\"stroke:#e26f46; stroke-width:4; stroke-opacity:1; fill:none\" points=\"\n",
       "  311.046,783.233 798.962,163.187 1286.88,783.233 1774.79,1403.28 2262.71,783.233 \n",
       "  \"/>\n",
       "<polygon clip-path=\"url(#clip6701)\" points=\"\n",
       "1958.43,390.944 2249.26,390.944 2249.26,209.504 1958.43,209.504 \n",
       "  \" fill=\"#ffffff\" fill-rule=\"evenodd\" fill-opacity=\"1\"/>\n",
       "<polyline clip-path=\"url(#clip6701)\" style=\"stroke:#000000; stroke-width:4; stroke-opacity:1; fill:none\" points=\"\n",
       "  1958.43,390.944 2249.26,390.944 2249.26,209.504 1958.43,209.504 1958.43,390.944 \n",
       "  \"/>\n",
       "<polyline clip-path=\"url(#clip6701)\" style=\"stroke:#009af9; stroke-width:4; stroke-opacity:1; fill:none\" stroke-dasharray=\"16, 10\" points=\"\n",
       "  1982.43,269.984 2126.43,269.984 \n",
       "  \"/>\n",
       "<g clip-path=\"url(#clip6701)\">\n",
       "<text style=\"fill:#000000; fill-opacity:1; font-family:Arial,Helvetica Neue,Helvetica,sans-serif; font-size:48px; text-anchor:start;\" transform=\"rotate(0, 2150.43, 287.484)\" x=\"2150.43\" y=\"287.484\">y1</text>\n",
       "</g>\n",
       "<polyline clip-path=\"url(#clip6701)\" style=\"stroke:#e26f46; stroke-width:4; stroke-opacity:1; fill:none\" points=\"\n",
       "  1982.43,330.464 2126.43,330.464 \n",
       "  \"/>\n",
       "<g clip-path=\"url(#clip6701)\">\n",
       "<text style=\"fill:#000000; fill-opacity:1; font-family:Arial,Helvetica Neue,Helvetica,sans-serif; font-size:48px; text-anchor:start;\" transform=\"rotate(0, 2150.43, 347.964)\" x=\"2150.43\" y=\"347.964\">y2</text>\n",
       "</g>\n",
       "</svg>\n"
      ]
     },
     "execution_count": 12,
     "metadata": {},
     "output_type": "execute_result"
    }
   ],
   "source": [
    "x1 = [0; pi/2; pi; 3*pi/2; 2*pi] \n",
    "y1 = sin.(x1)\n",
    "x = (0:pi/100:2*pi)\n",
    "y = sin.(x)\n",
    "plot(x,y,xlabel = \"x\",ylabel = \"sin x\",title=\"Sin x Graph\",linestyle=:dash)  \n",
    "plot!(x1,y1)  "
   ]
  },
  {
   "cell_type": "markdown",
   "metadata": {},
   "source": [
    "#### Exercise 2.2 : Create the vector x = [-3:0.01:3] and the vector y = x.*x (using the pointwise multiplication of the x with x). Explain why the pointwise multiplication is required here. Next plot the parabola using plot(x,y). Next find the equation of tangent line to the parabola in the point x=2. Plot this tangent line for -3 <= x <= 3 superimposed on the previous plot. Use this plot (combined with the zoom function for instance) to find the intersection of this tangent line with the x-axis.  Repeat at this point of intersection the process of finding the equation of the tangent line, plotting the tangent line and finding the intersection of the tangent line with the x-axis. Discuss what you observe; "
   ]
  },
  {
   "cell_type": "code",
   "execution_count": 13,
   "metadata": {},
   "outputs": [
    {
     "data": {
      "image/svg+xml": [
       "<?xml version=\"1.0\" encoding=\"utf-8\"?>\n",
       "<svg xmlns=\"http://www.w3.org/2000/svg\" xmlns:xlink=\"http://www.w3.org/1999/xlink\" width=\"600\" height=\"400\" viewBox=\"0 0 2400 1600\">\n",
       "<defs>\n",
       "  <clipPath id=\"clip6900\">\n",
       "    <rect x=\"0\" y=\"0\" width=\"2000\" height=\"2000\"/>\n",
       "  </clipPath>\n",
       "</defs>\n",
       "<defs>\n",
       "  <clipPath id=\"clip6901\">\n",
       "    <rect x=\"0\" y=\"0\" width=\"2400\" height=\"1600\"/>\n",
       "  </clipPath>\n",
       "</defs>\n",
       "<polygon clip-path=\"url(#clip6901)\" points=\"\n",
       "0,1600 2400,1600 2400,0 0,0 \n",
       "  \" fill=\"#ffffff\" fill-rule=\"evenodd\" fill-opacity=\"1\"/>\n",
       "<defs>\n",
       "  <clipPath id=\"clip6902\">\n",
       "    <rect x=\"480\" y=\"0\" width=\"1681\" height=\"1600\"/>\n",
       "  </clipPath>\n",
       "</defs>\n",
       "<polygon clip-path=\"url(#clip6901)\" points=\"\n",
       "239.115,1440.48 2321.26,1440.48 2321.26,125.984 239.115,125.984 \n",
       "  \" fill=\"#ffffff\" fill-rule=\"evenodd\" fill-opacity=\"1\"/>\n",
       "<defs>\n",
       "  <clipPath id=\"clip6903\">\n",
       "    <rect x=\"239\" y=\"125\" width=\"2083\" height=\"1315\"/>\n",
       "  </clipPath>\n",
       "</defs>\n",
       "<polyline clip-path=\"url(#clip6903)\" style=\"stroke:#000000; stroke-width:2; stroke-opacity:0.1; fill:none\" points=\"\n",
       "  298.044,1440.48 298.044,125.984 \n",
       "  \"/>\n",
       "<polyline clip-path=\"url(#clip6903)\" style=\"stroke:#000000; stroke-width:2; stroke-opacity:0.1; fill:none\" points=\"\n",
       "  625.425,1440.48 625.425,125.984 \n",
       "  \"/>\n",
       "<polyline clip-path=\"url(#clip6903)\" style=\"stroke:#000000; stroke-width:2; stroke-opacity:0.1; fill:none\" points=\"\n",
       "  952.806,1440.48 952.806,125.984 \n",
       "  \"/>\n",
       "<polyline clip-path=\"url(#clip6903)\" style=\"stroke:#000000; stroke-width:2; stroke-opacity:0.1; fill:none\" points=\"\n",
       "  1280.19,1440.48 1280.19,125.984 \n",
       "  \"/>\n",
       "<polyline clip-path=\"url(#clip6903)\" style=\"stroke:#000000; stroke-width:2; stroke-opacity:0.1; fill:none\" points=\"\n",
       "  1607.57,1440.48 1607.57,125.984 \n",
       "  \"/>\n",
       "<polyline clip-path=\"url(#clip6903)\" style=\"stroke:#000000; stroke-width:2; stroke-opacity:0.1; fill:none\" points=\"\n",
       "  1934.95,1440.48 1934.95,125.984 \n",
       "  \"/>\n",
       "<polyline clip-path=\"url(#clip6903)\" style=\"stroke:#000000; stroke-width:2; stroke-opacity:0.1; fill:none\" points=\"\n",
       "  2262.33,1440.48 2262.33,125.984 \n",
       "  \"/>\n",
       "<polyline clip-path=\"url(#clip6903)\" style=\"stroke:#000000; stroke-width:2; stroke-opacity:0.1; fill:none\" points=\"\n",
       "  239.115,1330.33 2321.26,1330.33 \n",
       "  \"/>\n",
       "<polyline clip-path=\"url(#clip6903)\" style=\"stroke:#000000; stroke-width:2; stroke-opacity:0.1; fill:none\" points=\"\n",
       "  239.115,1087.18 2321.26,1087.18 \n",
       "  \"/>\n",
       "<polyline clip-path=\"url(#clip6903)\" style=\"stroke:#000000; stroke-width:2; stroke-opacity:0.1; fill:none\" points=\"\n",
       "  239.115,844.022 2321.26,844.022 \n",
       "  \"/>\n",
       "<polyline clip-path=\"url(#clip6903)\" style=\"stroke:#000000; stroke-width:2; stroke-opacity:0.1; fill:none\" points=\"\n",
       "  239.115,600.867 2321.26,600.867 \n",
       "  \"/>\n",
       "<polyline clip-path=\"url(#clip6903)\" style=\"stroke:#000000; stroke-width:2; stroke-opacity:0.1; fill:none\" points=\"\n",
       "  239.115,357.711 2321.26,357.711 \n",
       "  \"/>\n",
       "<polyline clip-path=\"url(#clip6901)\" style=\"stroke:#000000; stroke-width:4; stroke-opacity:1; fill:none\" points=\"\n",
       "  239.115,1440.48 2321.26,1440.48 \n",
       "  \"/>\n",
       "<polyline clip-path=\"url(#clip6901)\" style=\"stroke:#000000; stroke-width:4; stroke-opacity:1; fill:none\" points=\"\n",
       "  239.115,1440.48 239.115,125.984 \n",
       "  \"/>\n",
       "<polyline clip-path=\"url(#clip6901)\" style=\"stroke:#000000; stroke-width:4; stroke-opacity:1; fill:none\" points=\"\n",
       "  298.044,1440.48 298.044,1420.77 \n",
       "  \"/>\n",
       "<polyline clip-path=\"url(#clip6901)\" style=\"stroke:#000000; stroke-width:4; stroke-opacity:1; fill:none\" points=\"\n",
       "  625.425,1440.48 625.425,1420.77 \n",
       "  \"/>\n",
       "<polyline clip-path=\"url(#clip6901)\" style=\"stroke:#000000; stroke-width:4; stroke-opacity:1; fill:none\" points=\"\n",
       "  952.806,1440.48 952.806,1420.77 \n",
       "  \"/>\n",
       "<polyline clip-path=\"url(#clip6901)\" style=\"stroke:#000000; stroke-width:4; stroke-opacity:1; fill:none\" points=\"\n",
       "  1280.19,1440.48 1280.19,1420.77 \n",
       "  \"/>\n",
       "<polyline clip-path=\"url(#clip6901)\" style=\"stroke:#000000; stroke-width:4; stroke-opacity:1; fill:none\" points=\"\n",
       "  1607.57,1440.48 1607.57,1420.77 \n",
       "  \"/>\n",
       "<polyline clip-path=\"url(#clip6901)\" style=\"stroke:#000000; stroke-width:4; stroke-opacity:1; fill:none\" points=\"\n",
       "  1934.95,1440.48 1934.95,1420.77 \n",
       "  \"/>\n",
       "<polyline clip-path=\"url(#clip6901)\" style=\"stroke:#000000; stroke-width:4; stroke-opacity:1; fill:none\" points=\"\n",
       "  2262.33,1440.48 2262.33,1420.77 \n",
       "  \"/>\n",
       "<polyline clip-path=\"url(#clip6901)\" style=\"stroke:#000000; stroke-width:4; stroke-opacity:1; fill:none\" points=\"\n",
       "  239.115,1330.33 270.347,1330.33 \n",
       "  \"/>\n",
       "<polyline clip-path=\"url(#clip6901)\" style=\"stroke:#000000; stroke-width:4; stroke-opacity:1; fill:none\" points=\"\n",
       "  239.115,1087.18 270.347,1087.18 \n",
       "  \"/>\n",
       "<polyline clip-path=\"url(#clip6901)\" style=\"stroke:#000000; stroke-width:4; stroke-opacity:1; fill:none\" points=\"\n",
       "  239.115,844.022 270.347,844.022 \n",
       "  \"/>\n",
       "<polyline clip-path=\"url(#clip6901)\" style=\"stroke:#000000; stroke-width:4; stroke-opacity:1; fill:none\" points=\"\n",
       "  239.115,600.867 270.347,600.867 \n",
       "  \"/>\n",
       "<polyline clip-path=\"url(#clip6901)\" style=\"stroke:#000000; stroke-width:4; stroke-opacity:1; fill:none\" points=\"\n",
       "  239.115,357.711 270.347,357.711 \n",
       "  \"/>\n",
       "<g clip-path=\"url(#clip6901)\">\n",
       "<text style=\"fill:#000000; fill-opacity:1; font-family:Arial,Helvetica Neue,Helvetica,sans-serif; font-size:48px; text-anchor:middle;\" transform=\"rotate(0, 298.044, 1494.48)\" x=\"298.044\" y=\"1494.48\">-3</text>\n",
       "</g>\n",
       "<g clip-path=\"url(#clip6901)\">\n",
       "<text style=\"fill:#000000; fill-opacity:1; font-family:Arial,Helvetica Neue,Helvetica,sans-serif; font-size:48px; text-anchor:middle;\" transform=\"rotate(0, 625.425, 1494.48)\" x=\"625.425\" y=\"1494.48\">-2</text>\n",
       "</g>\n",
       "<g clip-path=\"url(#clip6901)\">\n",
       "<text style=\"fill:#000000; fill-opacity:1; font-family:Arial,Helvetica Neue,Helvetica,sans-serif; font-size:48px; text-anchor:middle;\" transform=\"rotate(0, 952.806, 1494.48)\" x=\"952.806\" y=\"1494.48\">-1</text>\n",
       "</g>\n",
       "<g clip-path=\"url(#clip6901)\">\n",
       "<text style=\"fill:#000000; fill-opacity:1; font-family:Arial,Helvetica Neue,Helvetica,sans-serif; font-size:48px; text-anchor:middle;\" transform=\"rotate(0, 1280.19, 1494.48)\" x=\"1280.19\" y=\"1494.48\">0</text>\n",
       "</g>\n",
       "<g clip-path=\"url(#clip6901)\">\n",
       "<text style=\"fill:#000000; fill-opacity:1; font-family:Arial,Helvetica Neue,Helvetica,sans-serif; font-size:48px; text-anchor:middle;\" transform=\"rotate(0, 1607.57, 1494.48)\" x=\"1607.57\" y=\"1494.48\">1</text>\n",
       "</g>\n",
       "<g clip-path=\"url(#clip6901)\">\n",
       "<text style=\"fill:#000000; fill-opacity:1; font-family:Arial,Helvetica Neue,Helvetica,sans-serif; font-size:48px; text-anchor:middle;\" transform=\"rotate(0, 1934.95, 1494.48)\" x=\"1934.95\" y=\"1494.48\">2</text>\n",
       "</g>\n",
       "<g clip-path=\"url(#clip6901)\">\n",
       "<text style=\"fill:#000000; fill-opacity:1; font-family:Arial,Helvetica Neue,Helvetica,sans-serif; font-size:48px; text-anchor:middle;\" transform=\"rotate(0, 2262.33, 1494.48)\" x=\"2262.33\" y=\"1494.48\">3</text>\n",
       "</g>\n",
       "<g clip-path=\"url(#clip6901)\">\n",
       "<text style=\"fill:#000000; fill-opacity:1; font-family:Arial,Helvetica Neue,Helvetica,sans-serif; font-size:48px; text-anchor:end;\" transform=\"rotate(0, 215.115, 1347.83)\" x=\"215.115\" y=\"1347.83\">-15</text>\n",
       "</g>\n",
       "<g clip-path=\"url(#clip6901)\">\n",
       "<text style=\"fill:#000000; fill-opacity:1; font-family:Arial,Helvetica Neue,Helvetica,sans-serif; font-size:48px; text-anchor:end;\" transform=\"rotate(0, 215.115, 1104.68)\" x=\"215.115\" y=\"1104.68\">-10</text>\n",
       "</g>\n",
       "<g clip-path=\"url(#clip6901)\">\n",
       "<text style=\"fill:#000000; fill-opacity:1; font-family:Arial,Helvetica Neue,Helvetica,sans-serif; font-size:48px; text-anchor:end;\" transform=\"rotate(0, 215.115, 861.522)\" x=\"215.115\" y=\"861.522\">-5</text>\n",
       "</g>\n",
       "<g clip-path=\"url(#clip6901)\">\n",
       "<text style=\"fill:#000000; fill-opacity:1; font-family:Arial,Helvetica Neue,Helvetica,sans-serif; font-size:48px; text-anchor:end;\" transform=\"rotate(0, 215.115, 618.367)\" x=\"215.115\" y=\"618.367\">0</text>\n",
       "</g>\n",
       "<g clip-path=\"url(#clip6901)\">\n",
       "<text style=\"fill:#000000; fill-opacity:1; font-family:Arial,Helvetica Neue,Helvetica,sans-serif; font-size:48px; text-anchor:end;\" transform=\"rotate(0, 215.115, 375.211)\" x=\"215.115\" y=\"375.211\">5</text>\n",
       "</g>\n",
       "<g clip-path=\"url(#clip6901)\">\n",
       "<text style=\"fill:#000000; fill-opacity:1; font-family:Arial,Helvetica Neue,Helvetica,sans-serif; font-size:84px; text-anchor:middle;\" transform=\"rotate(0, 1280.19, 73.2)\" x=\"1280.19\" y=\"73.2\">Parabola Graph</text>\n",
       "</g>\n",
       "<g clip-path=\"url(#clip6901)\">\n",
       "<text style=\"fill:#000000; fill-opacity:1; font-family:Arial,Helvetica Neue,Helvetica,sans-serif; font-size:66px; text-anchor:middle;\" transform=\"rotate(0, 1280.19, 1590.4)\" x=\"1280.19\" y=\"1590.4\">x</text>\n",
       "</g>\n",
       "<g clip-path=\"url(#clip6901)\">\n",
       "<text style=\"fill:#000000; fill-opacity:1; font-family:Arial,Helvetica Neue,Helvetica,sans-serif; font-size:66px; text-anchor:middle;\" transform=\"rotate(-90, 57.6, 783.233)\" x=\"57.6\" y=\"783.233\">x^2</text>\n",
       "</g>\n",
       "<polyline clip-path=\"url(#clip6903)\" style=\"stroke:#009af9; stroke-width:4; stroke-opacity:1; fill:none\" points=\"\n",
       "  298.044,163.187 301.318,166.1 304.591,169.003 307.865,171.897 311.139,174.781 314.413,177.655 317.687,180.519 320.96,183.374 324.234,186.219 327.508,189.054 \n",
       "  330.782,191.879 334.056,194.695 337.329,197.501 340.603,200.297 343.877,203.084 347.151,205.861 350.425,208.628 353.699,211.385 356.972,214.133 360.246,216.871 \n",
       "  363.52,219.599 366.794,222.318 370.068,225.026 373.341,227.725 376.615,230.415 379.889,233.094 383.163,235.764 386.437,238.424 389.71,241.075 392.984,243.715 \n",
       "  396.258,246.346 399.532,248.967 402.806,251.579 406.08,254.181 409.353,256.773 412.627,259.355 415.901,261.928 419.175,264.49 422.449,267.044 425.722,269.587 \n",
       "  428.996,272.121 432.27,274.645 435.544,277.159 438.818,279.663 442.091,282.158 445.365,284.643 448.639,287.119 451.913,289.584 455.187,292.04 458.461,294.486 \n",
       "  461.734,296.923 465.008,299.349 468.282,301.766 471.556,304.173 474.83,306.571 478.103,308.959 481.377,311.337 484.651,313.705 487.925,316.064 491.199,318.413 \n",
       "  494.472,320.752 497.746,323.081 501.02,325.401 504.294,327.711 507.568,330.011 510.842,332.302 514.115,334.582 517.389,336.854 520.663,339.115 523.937,341.366 \n",
       "  527.211,343.608 530.484,345.841 533.758,348.063 537.032,350.276 540.306,352.479 543.58,354.672 546.853,356.855 550.127,359.029 553.401,361.193 556.675,363.348 \n",
       "  559.949,365.492 563.223,367.627 566.496,369.752 569.77,371.868 573.044,373.974 576.318,376.07 579.592,378.156 582.865,380.232 586.139,382.299 589.413,384.356 \n",
       "  592.687,386.404 595.961,388.441 599.234,390.469 602.508,392.487 605.782,394.496 609.056,396.495 612.33,398.484 615.604,400.463 618.877,402.433 622.151,404.392 \n",
       "  625.425,406.342 628.699,408.283 631.973,410.214 635.246,412.134 638.52,414.046 641.794,415.947 645.068,417.839 648.342,419.721 651.615,421.593 654.889,423.456 \n",
       "  658.163,425.309 661.437,427.152 664.711,428.985 667.985,430.809 671.258,432.623 674.532,434.427 677.806,436.221 681.08,438.006 684.354,439.781 687.627,441.547 \n",
       "  690.901,443.302 694.175,445.048 697.449,446.784 700.723,448.511 703.996,450.227 707.27,451.934 710.544,453.631 713.818,455.319 717.092,456.997 720.366,458.665 \n",
       "  723.639,460.323 726.913,461.972 730.187,463.61 733.461,465.24 736.735,466.859 740.008,468.469 743.282,470.069 746.556,471.659 749.83,473.239 753.104,474.81 \n",
       "  756.377,476.371 759.651,477.923 762.925,479.464 766.199,480.996 769.473,482.518 772.747,484.031 776.02,485.533 779.294,487.026 782.568,488.51 785.842,489.983 \n",
       "  789.116,491.447 792.389,492.901 795.663,494.345 798.937,495.78 802.211,497.205 805.485,498.62 808.758,500.025 812.032,501.421 815.306,502.807 818.58,504.183 \n",
       "  821.854,505.55 825.128,506.907 828.401,508.254 831.675,509.591 834.949,510.919 838.223,512.237 841.497,513.545 844.77,514.843 848.044,516.132 851.318,517.411 \n",
       "  854.592,518.68 857.866,519.94 861.139,521.19 864.413,522.43 867.687,523.66 870.961,524.881 874.235,526.092 877.509,527.293 880.782,528.484 884.056,529.666 \n",
       "  887.33,530.838 890.604,532 893.878,533.153 897.151,534.296 900.425,535.429 903.699,536.552 906.973,537.666 910.247,538.77 913.52,539.864 916.794,540.948 \n",
       "  920.068,542.023 923.342,543.088 926.616,544.144 929.89,545.189 933.163,546.225 936.437,547.251 939.711,548.267 942.985,549.274 946.259,550.271 949.532,551.258 \n",
       "  952.806,552.236 956.08,553.204 959.354,554.162 962.628,555.11 965.901,556.048 969.175,556.977 972.449,557.896 975.723,558.806 978.997,559.705 982.271,560.595 \n",
       "  985.544,561.476 988.818,562.346 992.092,563.207 995.366,564.058 998.64,564.899 1001.91,565.731 1005.19,566.553 1008.46,567.365 1011.73,568.167 1015.01,568.96 \n",
       "  1018.28,569.743 1021.56,570.516 1024.83,571.28 1028.1,572.033 1031.38,572.778 1034.65,573.512 1037.93,574.236 1041.2,574.951 1044.47,575.656 1047.75,576.352 \n",
       "  1051.02,577.038 1054.29,577.714 1057.57,578.38 1060.84,579.036 1064.12,579.683 1067.39,580.32 1070.66,580.948 1073.94,581.565 1077.21,582.173 1080.48,582.771 \n",
       "  1083.76,583.36 1087.03,583.938 1090.31,584.507 1093.58,585.067 1096.85,585.616 1100.13,586.156 1103.4,586.686 1106.68,587.206 1109.95,587.717 1113.22,588.218 \n",
       "  1116.5,588.709 1119.77,589.191 1123.04,589.662 1126.32,590.124 1129.59,590.577 1132.87,591.019 1136.14,591.452 1139.41,591.875 1142.69,592.288 1145.96,592.692 \n",
       "  1149.23,593.086 1152.51,593.47 1155.78,593.845 1159.06,594.209 1162.33,594.564 1165.6,594.91 1168.88,595.245 1172.15,595.571 1175.43,595.887 1178.7,596.193 \n",
       "  1181.97,596.49 1185.25,596.777 1188.52,597.054 1191.79,597.322 1195.07,597.579 1198.34,597.827 1201.62,598.066 1204.89,598.294 1208.16,598.513 1211.44,598.722 \n",
       "  1214.71,598.922 1217.99,599.111 1221.26,599.291 1224.53,599.461 1227.81,599.622 1231.08,599.773 1234.35,599.914 1237.63,600.045 1240.9,600.167 1244.18,600.278 \n",
       "  1247.45,600.381 1250.72,600.473 1254,600.556 1257.27,600.629 1260.54,600.692 1263.82,600.745 1267.09,600.789 1270.37,600.823 1273.64,600.847 1276.91,600.862 \n",
       "  1280.19,600.867 1283.46,600.862 1286.74,600.847 1290.01,600.823 1293.28,600.789 1296.56,600.745 1299.83,600.692 1303.1,600.629 1306.38,600.556 1309.65,600.473 \n",
       "  1312.93,600.381 1316.2,600.278 1319.47,600.167 1322.75,600.045 1326.02,599.914 1329.29,599.773 1332.57,599.622 1335.84,599.461 1339.12,599.291 1342.39,599.111 \n",
       "  1345.66,598.922 1348.94,598.722 1352.21,598.513 1355.49,598.294 1358.76,598.066 1362.03,597.827 1365.31,597.579 1368.58,597.322 1371.85,597.054 1375.13,596.777 \n",
       "  1378.4,596.49 1381.68,596.193 1384.95,595.887 1388.22,595.571 1391.5,595.245 1394.77,594.91 1398.04,594.564 1401.32,594.209 1404.59,593.845 1407.87,593.47 \n",
       "  1411.14,593.086 1414.41,592.692 1417.69,592.288 1420.96,591.875 1424.24,591.452 1427.51,591.019 1430.78,590.577 1434.06,590.124 1437.33,589.662 1440.6,589.191 \n",
       "  1443.88,588.709 1447.15,588.218 1450.43,587.717 1453.7,587.206 1456.97,586.686 1460.25,586.156 1463.52,585.616 1466.79,585.067 1470.07,584.507 1473.34,583.938 \n",
       "  1476.62,583.36 1479.89,582.771 1483.16,582.173 1486.44,581.565 1489.71,580.948 1492.99,580.32 1496.26,579.683 1499.53,579.036 1502.81,578.38 1506.08,577.714 \n",
       "  1509.35,577.038 1512.63,576.352 1515.9,575.656 1519.18,574.951 1522.45,574.236 1525.72,573.512 1529,572.778 1532.27,572.033 1535.54,571.28 1538.82,570.516 \n",
       "  1542.09,569.743 1545.37,568.96 1548.64,568.167 1551.91,567.365 1555.19,566.553 1558.46,565.731 1561.74,564.899 1565.01,564.058 1568.28,563.207 1571.56,562.346 \n",
       "  1574.83,561.476 1578.1,560.595 1581.38,559.705 1584.65,558.806 1587.93,557.896 1591.2,556.977 1594.47,556.048 1597.75,555.11 1601.02,554.162 1604.29,553.204 \n",
       "  1607.57,552.236 1610.84,551.258 1614.12,550.271 1617.39,549.274 1620.66,548.267 1623.94,547.251 1627.21,546.225 1630.49,545.189 1633.76,544.144 1637.03,543.088 \n",
       "  1640.31,542.023 1643.58,540.948 1646.85,539.864 1650.13,538.77 1653.4,537.666 1656.68,536.552 1659.95,535.429 1663.22,534.296 1666.5,533.153 1669.77,532 \n",
       "  1673.04,530.838 1676.32,529.666 1679.59,528.484 1682.87,527.293 1686.14,526.092 1689.41,524.881 1692.69,523.66 1695.96,522.43 1699.24,521.19 1702.51,519.94 \n",
       "  1705.78,518.68 1709.06,517.411 1712.33,516.132 1715.6,514.843 1718.88,513.545 1722.15,512.237 1725.43,510.919 1728.7,509.591 1731.97,508.254 1735.25,506.907 \n",
       "  1738.52,505.55 1741.8,504.183 1745.07,502.807 1748.34,501.421 1751.62,500.025 1754.89,498.62 1758.16,497.205 1761.44,495.78 1764.71,494.345 1767.99,492.901 \n",
       "  1771.26,491.447 1774.53,489.983 1777.81,488.51 1781.08,487.026 1784.35,485.533 1787.63,484.031 1790.9,482.518 1794.18,480.996 1797.45,479.464 1800.72,477.923 \n",
       "  1804,476.371 1807.27,474.81 1810.55,473.239 1813.82,471.659 1817.09,470.069 1820.37,468.469 1823.64,466.859 1826.91,465.24 1830.19,463.61 1833.46,461.972 \n",
       "  1836.74,460.323 1840.01,458.665 1843.28,456.997 1846.56,455.319 1849.83,453.631 1853.1,451.934 1856.38,450.227 1859.65,448.511 1862.93,446.784 1866.2,445.048 \n",
       "  1869.47,443.302 1872.75,441.547 1876.02,439.781 1879.3,438.006 1882.57,436.221 1885.84,434.427 1889.12,432.623 1892.39,430.809 1895.66,428.985 1898.94,427.152 \n",
       "  1902.21,425.309 1905.49,423.456 1908.76,421.593 1912.03,419.721 1915.31,417.839 1918.58,415.947 1921.85,414.046 1925.13,412.134 1928.4,410.214 1931.68,408.283 \n",
       "  1934.95,406.342 1938.22,404.392 1941.5,402.433 1944.77,400.463 1948.05,398.484 1951.32,396.495 1954.59,394.496 1957.87,392.487 1961.14,390.469 1964.41,388.441 \n",
       "  1967.69,386.404 1970.96,384.356 1974.24,382.299 1977.51,380.232 1980.78,378.156 1984.06,376.07 1987.33,373.974 1990.6,371.868 1993.88,369.752 1997.15,367.627 \n",
       "  2000.43,365.492 2003.7,363.348 2006.97,361.193 2010.25,359.029 2013.52,356.855 2016.8,354.672 2020.07,352.479 2023.34,350.276 2026.62,348.063 2029.89,345.841 \n",
       "  2033.16,343.608 2036.44,341.366 2039.71,339.115 2042.99,336.854 2046.26,334.582 2049.53,332.302 2052.81,330.011 2056.08,327.711 2059.35,325.401 2062.63,323.081 \n",
       "  2065.9,320.752 2069.18,318.413 2072.45,316.064 2075.72,313.705 2079,311.337 2082.27,308.959 2085.55,306.571 2088.82,304.173 2092.09,301.766 2095.37,299.349 \n",
       "  2098.64,296.923 2101.91,294.486 2105.19,292.04 2108.46,289.584 2111.74,287.119 2115.01,284.643 2118.28,282.158 2121.56,279.663 2124.83,277.159 2128.1,274.645 \n",
       "  2131.38,272.121 2134.65,269.587 2137.93,267.044 2141.2,264.49 2144.47,261.928 2147.75,259.355 2151.02,256.773 2154.3,254.181 2157.57,251.579 2160.84,248.967 \n",
       "  2164.12,246.346 2167.39,243.715 2170.66,241.075 2173.94,238.424 2177.21,235.764 2180.49,233.094 2183.76,230.415 2187.03,227.725 2190.31,225.026 2193.58,222.318 \n",
       "  2196.85,219.599 2200.13,216.871 2203.4,214.133 2206.68,211.385 2209.95,208.628 2213.22,205.861 2216.5,203.084 2219.77,200.297 2223.05,197.501 2226.32,194.695 \n",
       "  2229.59,191.879 2232.87,189.054 2236.14,186.219 2239.41,183.374 2242.69,180.519 2245.96,177.655 2249.24,174.781 2252.51,171.897 2255.78,169.003 2259.06,166.1 \n",
       "  2262.33,163.187 \n",
       "  \"/>\n",
       "<polyline clip-path=\"url(#clip6903)\" style=\"stroke:#e26f46; stroke-width:4; stroke-opacity:1; fill:none\" points=\"\n",
       "  298.044,1403.28 301.318,1401.29 304.591,1399.29 307.865,1397.3 311.139,1395.3 314.413,1393.31 317.687,1391.32 320.96,1389.32 324.234,1387.33 327.508,1385.33 \n",
       "  330.782,1383.34 334.056,1381.35 337.329,1379.35 340.603,1377.36 343.877,1375.37 347.151,1373.37 350.425,1371.38 353.699,1369.38 356.972,1367.39 360.246,1365.4 \n",
       "  363.52,1363.4 366.794,1361.41 370.068,1359.41 373.341,1357.42 376.615,1355.43 379.889,1353.43 383.163,1351.44 386.437,1349.45 389.71,1347.45 392.984,1345.46 \n",
       "  396.258,1343.46 399.532,1341.47 402.806,1339.48 406.08,1337.48 409.353,1335.49 412.627,1333.49 415.901,1331.5 419.175,1329.51 422.449,1327.51 425.722,1325.52 \n",
       "  428.996,1323.52 432.27,1321.53 435.544,1319.54 438.818,1317.54 442.091,1315.55 445.365,1313.56 448.639,1311.56 451.913,1309.57 455.187,1307.57 458.461,1305.58 \n",
       "  461.734,1303.59 465.008,1301.59 468.282,1299.6 471.556,1297.6 474.83,1295.61 478.103,1293.62 481.377,1291.62 484.651,1289.63 487.925,1287.64 491.199,1285.64 \n",
       "  494.472,1283.65 497.746,1281.65 501.02,1279.66 504.294,1277.67 507.568,1275.67 510.842,1273.68 514.115,1271.68 517.389,1269.69 520.663,1267.7 523.937,1265.7 \n",
       "  527.211,1263.71 530.484,1261.71 533.758,1259.72 537.032,1257.73 540.306,1255.73 543.58,1253.74 546.853,1251.75 550.127,1249.75 553.401,1247.76 556.675,1245.76 \n",
       "  559.949,1243.77 563.223,1241.78 566.496,1239.78 569.77,1237.79 573.044,1235.79 576.318,1233.8 579.592,1231.81 582.865,1229.81 586.139,1227.82 589.413,1225.82 \n",
       "  592.687,1223.83 595.961,1221.84 599.234,1219.84 602.508,1217.85 605.782,1215.86 609.056,1213.86 612.33,1211.87 615.604,1209.87 618.877,1207.88 622.151,1205.89 \n",
       "  625.425,1203.89 628.699,1201.9 631.973,1199.9 635.246,1197.91 638.52,1195.92 641.794,1193.92 645.068,1191.93 648.342,1189.94 651.615,1187.94 654.889,1185.95 \n",
       "  658.163,1183.95 661.437,1181.96 664.711,1179.97 667.985,1177.97 671.258,1175.98 674.532,1173.98 677.806,1171.99 681.08,1170 684.354,1168 687.627,1166.01 \n",
       "  690.901,1164.01 694.175,1162.02 697.449,1160.03 700.723,1158.03 703.996,1156.04 707.27,1154.05 710.544,1152.05 713.818,1150.06 717.092,1148.06 720.366,1146.07 \n",
       "  723.639,1144.08 726.913,1142.08 730.187,1140.09 733.461,1138.09 736.735,1136.1 740.008,1134.11 743.282,1132.11 746.556,1130.12 749.83,1128.13 753.104,1126.13 \n",
       "  756.377,1124.14 759.651,1122.14 762.925,1120.15 766.199,1118.16 769.473,1116.16 772.747,1114.17 776.02,1112.17 779.294,1110.18 782.568,1108.19 785.842,1106.19 \n",
       "  789.116,1104.2 792.389,1102.2 795.663,1100.21 798.937,1098.22 802.211,1096.22 805.485,1094.23 808.758,1092.24 812.032,1090.24 815.306,1088.25 818.58,1086.25 \n",
       "  821.854,1084.26 825.128,1082.27 828.401,1080.27 831.675,1078.28 834.949,1076.28 838.223,1074.29 841.497,1072.3 844.77,1070.3 848.044,1068.31 851.318,1066.31 \n",
       "  854.592,1064.32 857.866,1062.33 861.139,1060.33 864.413,1058.34 867.687,1056.35 870.961,1054.35 874.235,1052.36 877.509,1050.36 880.782,1048.37 884.056,1046.38 \n",
       "  887.33,1044.38 890.604,1042.39 893.878,1040.39 897.151,1038.4 900.425,1036.41 903.699,1034.41 906.973,1032.42 910.247,1030.43 913.52,1028.43 916.794,1026.44 \n",
       "  920.068,1024.44 923.342,1022.45 926.616,1020.46 929.89,1018.46 933.163,1016.47 936.437,1014.47 939.711,1012.48 942.985,1010.49 946.259,1008.49 949.532,1006.5 \n",
       "  952.806,1004.5 956.08,1002.51 959.354,1000.52 962.628,998.523 965.901,996.529 969.175,994.536 972.449,992.542 975.723,990.548 978.997,988.554 982.271,986.56 \n",
       "  985.544,984.566 988.818,982.572 992.092,980.578 995.366,978.585 998.64,976.591 1001.91,974.597 1005.19,972.603 1008.46,970.609 1011.73,968.615 1015.01,966.621 \n",
       "  1018.28,964.627 1021.56,962.634 1024.83,960.64 1028.1,958.646 1031.38,956.652 1034.65,954.658 1037.93,952.664 1041.2,950.67 1044.47,948.676 1047.75,946.683 \n",
       "  1051.02,944.689 1054.29,942.695 1057.57,940.701 1060.84,938.707 1064.12,936.713 1067.39,934.719 1070.66,932.725 1073.94,930.732 1077.21,928.738 1080.48,926.744 \n",
       "  1083.76,924.75 1087.03,922.756 1090.31,920.762 1093.58,918.768 1096.85,916.774 1100.13,914.781 1103.4,912.787 1106.68,910.793 1109.95,908.799 1113.22,906.805 \n",
       "  1116.5,904.811 1119.77,902.817 1123.04,900.823 1126.32,898.83 1129.59,896.836 1132.87,894.842 1136.14,892.848 1139.41,890.854 1142.69,888.86 1145.96,886.866 \n",
       "  1149.23,884.872 1152.51,882.879 1155.78,880.885 1159.06,878.891 1162.33,876.897 1165.6,874.903 1168.88,872.909 1172.15,870.915 1175.43,868.921 1178.7,866.928 \n",
       "  1181.97,864.934 1185.25,862.94 1188.52,860.946 1191.79,858.952 1195.07,856.958 1198.34,854.964 1201.62,852.97 1204.89,850.977 1208.16,848.983 1211.44,846.989 \n",
       "  1214.71,844.995 1217.99,843.001 1221.26,841.007 1224.53,839.013 1227.81,837.019 1231.08,835.026 1234.35,833.032 1237.63,831.038 1240.9,829.044 1244.18,827.05 \n",
       "  1247.45,825.056 1250.72,823.062 1254,821.068 1257.27,819.075 1260.54,817.081 1263.82,815.087 1267.09,813.093 1270.37,811.099 1273.64,809.105 1276.91,807.111 \n",
       "  1280.19,805.117 1283.46,803.124 1286.74,801.13 1290.01,799.136 1293.28,797.142 1296.56,795.148 1299.83,793.154 1303.1,791.16 1306.38,789.166 1309.65,787.173 \n",
       "  1312.93,785.179 1316.2,783.185 1319.47,781.191 1322.75,779.197 1326.02,777.203 1329.29,775.209 1332.57,773.215 1335.84,771.222 1339.12,769.228 1342.39,767.234 \n",
       "  1345.66,765.24 1348.94,763.246 1352.21,761.252 1355.49,759.258 1358.76,757.264 1362.03,755.271 1365.31,753.277 1368.58,751.283 1371.85,749.289 1375.13,747.295 \n",
       "  1378.4,745.301 1381.68,743.307 1384.95,741.313 1388.22,739.32 1391.5,737.326 1394.77,735.332 1398.04,733.338 1401.32,731.344 1404.59,729.35 1407.87,727.356 \n",
       "  1411.14,725.362 1414.41,723.369 1417.69,721.375 1420.96,719.381 1424.24,717.387 1427.51,715.393 1430.78,713.399 1434.06,711.405 1437.33,709.411 1440.6,707.418 \n",
       "  1443.88,705.424 1447.15,703.43 1450.43,701.436 1453.7,699.442 1456.97,697.448 1460.25,695.454 1463.52,693.46 1466.79,691.467 1470.07,689.473 1473.34,687.479 \n",
       "  1476.62,685.485 1479.89,683.491 1483.16,681.497 1486.44,679.503 1489.71,677.509 1492.99,675.516 1496.26,673.522 1499.53,671.528 1502.81,669.534 1506.08,667.54 \n",
       "  1509.35,665.546 1512.63,663.552 1515.9,661.558 1519.18,659.565 1522.45,657.571 1525.72,655.577 1529,653.583 1532.27,651.589 1535.54,649.595 1538.82,647.601 \n",
       "  1542.09,645.607 1545.37,643.614 1548.64,641.62 1551.91,639.626 1555.19,637.632 1558.46,635.638 1561.74,633.644 1565.01,631.65 1568.28,629.656 1571.56,627.663 \n",
       "  1574.83,625.669 1578.1,623.675 1581.38,621.681 1584.65,619.687 1587.93,617.693 1591.2,615.699 1594.47,613.705 1597.75,611.712 1601.02,609.718 1604.29,607.724 \n",
       "  1607.57,605.73 1610.84,603.736 1614.12,601.742 1617.39,599.748 1620.66,597.754 1623.94,595.761 1627.21,593.767 1630.49,591.773 1633.76,589.779 1637.03,587.785 \n",
       "  1640.31,585.791 1643.58,583.797 1646.85,581.803 1650.13,579.81 1653.4,577.816 1656.68,575.822 1659.95,573.828 1663.22,571.834 1666.5,569.84 1669.77,567.846 \n",
       "  1673.04,565.852 1676.32,563.859 1679.59,561.865 1682.87,559.871 1686.14,557.877 1689.41,555.883 1692.69,553.889 1695.96,551.895 1699.24,549.901 1702.51,547.908 \n",
       "  1705.78,545.914 1709.06,543.92 1712.33,541.926 1715.6,539.932 1718.88,537.938 1722.15,535.944 1725.43,533.95 1728.7,531.957 1731.97,529.963 1735.25,527.969 \n",
       "  1738.52,525.975 1741.8,523.981 1745.07,521.987 1748.34,519.993 1751.62,517.999 1754.89,516.006 1758.16,514.012 1761.44,512.018 1764.71,510.024 1767.99,508.03 \n",
       "  1771.26,506.036 1774.53,504.042 1777.81,502.048 1781.08,500.055 1784.35,498.061 1787.63,496.067 1790.9,494.073 1794.18,492.079 1797.45,490.085 1800.72,488.091 \n",
       "  1804,486.097 1807.27,484.104 1810.55,482.11 1813.82,480.116 1817.09,478.122 1820.37,476.128 1823.64,474.134 1826.91,472.14 1830.19,470.146 1833.46,468.153 \n",
       "  1836.74,466.159 1840.01,464.165 1843.28,462.171 1846.56,460.177 1849.83,458.183 1853.1,456.189 1856.38,454.195 1859.65,452.202 1862.93,450.208 1866.2,448.214 \n",
       "  1869.47,446.22 1872.75,444.226 1876.02,442.232 1879.3,440.238 1882.57,438.244 1885.84,436.251 1889.12,434.257 1892.39,432.263 1895.66,430.269 1898.94,428.275 \n",
       "  1902.21,426.281 1905.49,424.287 1908.76,422.293 1912.03,420.3 1915.31,418.306 1918.58,416.312 1921.85,414.318 1925.13,412.324 1928.4,410.33 1931.68,408.336 \n",
       "  1934.95,406.342 1938.22,404.349 1941.5,402.355 1944.77,400.361 1948.05,398.367 1951.32,396.373 1954.59,394.379 1957.87,392.385 1961.14,390.391 1964.41,388.398 \n",
       "  1967.69,386.404 1970.96,384.41 1974.24,382.416 1977.51,380.422 1980.78,378.428 1984.06,376.434 1987.33,374.44 1990.6,372.447 1993.88,370.453 1997.15,368.459 \n",
       "  2000.43,366.465 2003.7,364.471 2006.97,362.477 2010.25,360.483 2013.52,358.489 2016.8,356.496 2020.07,354.502 2023.34,352.508 2026.62,350.514 2029.89,348.52 \n",
       "  2033.16,346.526 2036.44,344.532 2039.71,342.538 2042.99,340.545 2046.26,338.551 2049.53,336.557 2052.81,334.563 2056.08,332.569 2059.35,330.575 2062.63,328.581 \n",
       "  2065.9,326.587 2069.18,324.594 2072.45,322.6 2075.72,320.606 2079,318.612 2082.27,316.618 2085.55,314.624 2088.82,312.63 2092.09,310.636 2095.37,308.643 \n",
       "  2098.64,306.649 2101.91,304.655 2105.19,302.661 2108.46,300.667 2111.74,298.673 2115.01,296.679 2118.28,294.686 2121.56,292.692 2124.83,290.698 2128.1,288.704 \n",
       "  2131.38,286.71 2134.65,284.716 2137.93,282.722 2141.2,280.728 2144.47,278.735 2147.75,276.741 2151.02,274.747 2154.3,272.753 2157.57,270.759 2160.84,268.765 \n",
       "  2164.12,266.771 2167.39,264.777 2170.66,262.784 2173.94,260.79 2177.21,258.796 2180.49,256.802 2183.76,254.808 2187.03,252.814 2190.31,250.82 2193.58,248.826 \n",
       "  2196.85,246.833 2200.13,244.839 2203.4,242.845 2206.68,240.851 2209.95,238.857 2213.22,236.863 2216.5,234.869 2219.77,232.875 2223.05,230.882 2226.32,228.888 \n",
       "  2229.59,226.894 2232.87,224.9 2236.14,222.906 2239.41,220.912 2242.69,218.918 2245.96,216.924 2249.24,214.931 2252.51,212.937 2255.78,210.943 2259.06,208.949 \n",
       "  2262.33,206.955 \n",
       "  \"/>\n",
       "<circle clip-path=\"url(#clip6903)\" style=\"fill:#000000; stroke:none; fill-opacity:1\" cx=\"1607.57\" cy=\"600.867\" r=\"25\"/>\n",
       "<circle clip-path=\"url(#clip6903)\" style=\"fill:#ffa500; stroke:none; fill-opacity:1\" cx=\"1607.57\" cy=\"600.867\" r=\"21\"/>\n",
       "<polygon clip-path=\"url(#clip6901)\" points=\"\n",
       "1958.43,451.424 2249.26,451.424 2249.26,209.504 1958.43,209.504 \n",
       "  \" fill=\"#ffffff\" fill-rule=\"evenodd\" fill-opacity=\"1\"/>\n",
       "<polyline clip-path=\"url(#clip6901)\" style=\"stroke:#000000; stroke-width:4; stroke-opacity:1; fill:none\" points=\"\n",
       "  1958.43,451.424 2249.26,451.424 2249.26,209.504 1958.43,209.504 1958.43,451.424 \n",
       "  \"/>\n",
       "<polyline clip-path=\"url(#clip6901)\" style=\"stroke:#009af9; stroke-width:4; stroke-opacity:1; fill:none\" points=\"\n",
       "  1982.43,269.984 2126.43,269.984 \n",
       "  \"/>\n",
       "<g clip-path=\"url(#clip6901)\">\n",
       "<text style=\"fill:#000000; fill-opacity:1; font-family:Arial,Helvetica Neue,Helvetica,sans-serif; font-size:48px; text-anchor:start;\" transform=\"rotate(0, 2150.43, 287.484)\" x=\"2150.43\" y=\"287.484\">y1</text>\n",
       "</g>\n",
       "<polyline clip-path=\"url(#clip6901)\" style=\"stroke:#e26f46; stroke-width:4; stroke-opacity:1; fill:none\" points=\"\n",
       "  1982.43,330.464 2126.43,330.464 \n",
       "  \"/>\n",
       "<g clip-path=\"url(#clip6901)\">\n",
       "<text style=\"fill:#000000; fill-opacity:1; font-family:Arial,Helvetica Neue,Helvetica,sans-serif; font-size:48px; text-anchor:start;\" transform=\"rotate(0, 2150.43, 347.964)\" x=\"2150.43\" y=\"347.964\">y2</text>\n",
       "</g>\n",
       "<circle clip-path=\"url(#clip6901)\" style=\"fill:#000000; stroke:none; fill-opacity:1\" cx=\"2066.43\" cy=\"390.944\" r=\"25\"/>\n",
       "<circle clip-path=\"url(#clip6901)\" style=\"fill:#ffa500; stroke:none; fill-opacity:1\" cx=\"2066.43\" cy=\"390.944\" r=\"21\"/>\n",
       "<g clip-path=\"url(#clip6901)\">\n",
       "<text style=\"fill:#000000; fill-opacity:1; font-family:Arial,Helvetica Neue,Helvetica,sans-serif; font-size:48px; text-anchor:start;\" transform=\"rotate(0, 2150.43, 408.444)\" x=\"2150.43\" y=\"408.444\">y3</text>\n",
       "</g>\n",
       "</svg>\n"
      ]
     },
     "execution_count": 13,
     "metadata": {},
     "output_type": "execute_result"
    }
   ],
   "source": [
    "x = (-3:0.01:3)\n",
    "# Pointwise multiplication is required to generate corresponding elements\n",
    "y1 = x.*x\n",
    "plot(x,y1,xlabel = \"x\",ylabel = \"x^2\",title=\"Parabola Graph\",linestyle=:auto)\n",
    "y2 = 4*x .- 4\n",
    "x_pt = 2\n",
    "h = 0.1\n",
    "fprime = ((x_pt+h)*(x_pt+h)-(x_pt*x_pt))/h # derivative\n",
    "tan = x_pt*x_pt .+ fprime .* (x .- x_pt)  # tangent\n",
    "plot!(x,tan)\n",
    "y3 = [0]\n",
    "x_intercept = (y3 .+ 4)./4 \n",
    "scatter!(x_intercept,y3, markersize=6, c=:orange)"
   ]
  },
  {
   "cell_type": "markdown",
   "metadata": {},
   "source": [
    "## 3. Matrices"
   ]
  },
  {
   "cell_type": "markdown",
   "metadata": {},
   "source": [
    "#### 3.1 Given the matrix A = [1 2 3; 2 4 8; 3 9 27], retrieve (or print to screen) the first row of A, the last column of A (using the end keyword) and the submatrix A1 = [1 3; 3 27];"
   ]
  },
  {
   "cell_type": "code",
   "execution_count": 14,
   "metadata": {},
   "outputs": [
    {
     "name": "stdout",
     "output_type": "stream",
     "text": [
      "[1, 2, 3]\n",
      "[3, 8, 27]\n",
      "[1 3; 3 27]\n"
     ]
    }
   ],
   "source": [
    "A = [1 2 3; 2 4 8; 3 9 27]\n",
    "println(A[1,:])\n",
    "println(A[:,end])\n",
    "println(A[[1,3],[1,3]])"
   ]
  },
  {
   "cell_type": "markdown",
   "metadata": {},
   "source": [
    "#### 3.2 given the matrix A = [1 2 3; 2 4 8; 3 9 27], retrieve (or print to screen) the diagonal of A (see “help diag”), the lower triangular part of A (see “help tril”) and then upper triangular part of A (see “help triu”); "
   ]
  },
  {
   "cell_type": "code",
   "execution_count": 15,
   "metadata": {},
   "outputs": [
    {
     "name": "stdout",
     "output_type": "stream",
     "text": [
      "[1 2 3; 2 4 8; 3 9 27]\n",
      "[1, 4, 27]\n",
      "[1 0 0; 2 4 0; 3 9 27]\n",
      "[1 2 3; 0 4 8; 0 0 27]\n"
     ]
    }
   ],
   "source": [
    "A = [1 2 3; 2 4 8; 3 9 27]\n",
    "println(A)\n",
    "println(diag(A))\n",
    "println(tril(A))\n",
    "println(triu(A))"
   ]
  },
  {
   "cell_type": "markdown",
   "metadata": {},
   "source": [
    "#### 3.3 given the matrix A = [1 2 3; 2 4 8; 3 9 27], create and print to screen the matrix B = transpose(A) and the matrix C = transpose(B). What do you observe. Explain your findings;"
   ]
  },
  {
   "cell_type": "code",
   "execution_count": 16,
   "metadata": {},
   "outputs": [
    {
     "name": "stdout",
     "output_type": "stream",
     "text": [
      "[1 2 3; 2 4 8; 3 9 27]\n",
      "[1 2 3; 2 4 9; 3 8 27]\n",
      "[1 2 3; 2 4 8; 3 9 27]\n",
      "A and C are same\n"
     ]
    }
   ],
   "source": [
    "A = [1 2 3; 2 4 8; 3 9 27]\n",
    "B = transpose(A) \n",
    "C = transpose(B)\n",
    "println(A)\n",
    "println(B)\n",
    "println(C)\n",
    "println(\"A and C are same\")"
   ]
  },
  {
   "cell_type": "markdown",
   "metadata": {},
   "source": [
    "#### 3.4 use the function zeros (ones) to create a 3-by-3 matrix with all elements equal to zero (one); "
   ]
  },
  {
   "cell_type": "code",
   "execution_count": 17,
   "metadata": {},
   "outputs": [
    {
     "name": "stdout",
     "output_type": "stream",
     "text": [
      "[0 0 0; 0 0 0; 0 0 0]\n",
      "[1 1 1; 1 1 1; 1 1 1]\n"
     ]
    }
   ],
   "source": [
    "println(zeros(Int64,3,3))\n",
    "println(ones(Int64,3,3))"
   ]
  },
  {
   "cell_type": "markdown",
   "metadata": {},
   "source": [
    "#### 3.5 use the function eye to create the 3-by-3 identity matrix (see “help eye”); "
   ]
  },
  {
   "cell_type": "code",
   "execution_count": 18,
   "metadata": {},
   "outputs": [
    {
     "data": {
      "text/plain": [
       "3×3 Array{Float64,2}:\n",
       " 1.0  0.0  0.0\n",
       " 0.0  1.0  0.0\n",
       " 0.0  0.0  1.0"
      ]
     },
     "execution_count": 18,
     "metadata": {},
     "output_type": "execute_result"
    }
   ],
   "source": [
    "Array{Float64}(I, 3, 3)"
   ]
  },
  {
   "cell_type": "markdown",
   "metadata": {},
   "source": [
    "#### 3.6 given the matrix A = [1 2 3; 2 4 8; 3 9 27] , compute the new matrix 5*A;"
   ]
  },
  {
   "cell_type": "code",
   "execution_count": 19,
   "metadata": {},
   "outputs": [
    {
     "name": "stdout",
     "output_type": "stream",
     "text": [
      "[5 10 15; 10 20 40; 15 45 135]\n"
     ]
    }
   ],
   "source": [
    "A = [1 2 3; 2 4 8; 3 9 27] \n",
    "println(5*A)"
   ]
  },
  {
   "cell_type": "markdown",
   "metadata": {},
   "source": [
    "#### 3.7 given the matrix A = [1 2 3; 2 4 8; 3 9 27] , find the min, max, and norm of the matrix A"
   ]
  },
  {
   "cell_type": "code",
   "execution_count": 20,
   "metadata": {},
   "outputs": [
    {
     "name": "stdout",
     "output_type": "stream",
     "text": [
      "1\n",
      "27\n",
      "30.28200785945344\n"
     ]
    }
   ],
   "source": [
    "A = [1 2 3; 2 4 8; 3 9 27] \n",
    "println(minimum(A))\n",
    "println(maximum(A))\n",
    "println(norm(A))"
   ]
  },
  {
   "cell_type": "markdown",
   "metadata": {},
   "source": [
    "#### 3.8 given the matrix A = [1 2 3; 2 4 8; 3 9 27] and the matrix B = eye(3), compute the new matrix C = A+B and C = B+A."
   ]
  },
  {
   "cell_type": "code",
   "execution_count": 21,
   "metadata": {},
   "outputs": [
    {
     "data": {
      "text/plain": [
       "true"
      ]
     },
     "execution_count": 21,
     "metadata": {},
     "output_type": "execute_result"
    }
   ],
   "source": [
    "A = [1 2 3; 2 4 8; 3 9 27] \n",
    "B = Array{Float64}(I, 3, 3)\n",
    "C = A + B\n",
    "D = B + A\n",
    "C==D"
   ]
  },
  {
   "cell_type": "markdown",
   "metadata": {},
   "source": [
    "#### 3.9 given the matrix A = [1 2 3; 2 4 8; 3 9 27] and the matrix B = eye(3), compute the new matrix C = A*B and C = B*A;"
   ]
  },
  {
   "cell_type": "code",
   "execution_count": 22,
   "metadata": {},
   "outputs": [
    {
     "data": {
      "text/plain": [
       "true"
      ]
     },
     "execution_count": 22,
     "metadata": {},
     "output_type": "execute_result"
    }
   ],
   "source": [
    "A = [1 2 3; 2 4 8; 3 9 27]\n",
    "B = Array{Float64}(I, 3, 3)\n",
    "C = A*B\n",
    "D = B*A\n",
    "C==D"
   ]
  },
  {
   "cell_type": "markdown",
   "metadata": {},
   "source": [
    "#### 3.10 given the matrix A = [1 2 3; 2 4 8; 3 9 27] and the matrix B = ones(3), compute the new matrix C = A*B and C = B*A. Use the definition of the matrix-matrix product to explain your findings;"
   ]
  },
  {
   "cell_type": "code",
   "execution_count": 23,
   "metadata": {},
   "outputs": [
    {
     "name": "stdout",
     "output_type": "stream",
     "text": [
      "[6.0 6.0 6.0; 14.0 14.0 14.0; 39.0 39.0 39.0]\n",
      "[6.0 15.0 38.0; 6.0 15.0 38.0; 6.0 15.0 38.0]\n"
     ]
    },
    {
     "data": {
      "text/plain": [
       "false"
      ]
     },
     "execution_count": 23,
     "metadata": {},
     "output_type": "execute_result"
    }
   ],
   "source": [
    "A = [1 2 3; 2 4 8; 3 9 27]\n",
    "B = ones(3,3)\n",
    "C = A*B\n",
    "D = B*A\n",
    "println(C)\n",
    "println(D)\n",
    "C==D"
   ]
  },
  {
   "cell_type": "markdown",
   "metadata": {},
   "source": [
    "#### given the matrix A = [1 2 3; 2 4 8; 3 9 27] , compute the new matrix C= A*A and the new matrix C=A.*A (observe the point wise multiplication). Explain your findings using again the definition of the matrix-matrix product; "
   ]
  },
  {
   "cell_type": "code",
   "execution_count": 24,
   "metadata": {},
   "outputs": [
    {
     "name": "stdout",
     "output_type": "stream",
     "text": [
      "[14 37 100; 34 92 254; 102 285 810]\n",
      "[1 4 9; 4 16 64; 9 81 729]\n"
     ]
    },
    {
     "data": {
      "text/plain": [
       "false"
      ]
     },
     "execution_count": 24,
     "metadata": {},
     "output_type": "execute_result"
    }
   ],
   "source": [
    "A = [1 2 3; 2 4 8; 3 9 27] \n",
    "C=A*A\n",
    "D=A.*A\n",
    "println(C)\n",
    "println(D)\n",
    "C==D"
   ]
  },
  {
   "cell_type": "markdown",
   "metadata": {},
   "source": [
    "## 4. Triangular matrices  "
   ]
  },
  {
   "cell_type": "markdown",
   "metadata": {},
   "source": [
    "#### 4.1 given the lower triangular matrix A = [1 0 0 ; 2 4 0; 3 9 27], use the function eig (see “help eig”) to compute the eigenvalues of the matrix A. Compare the eigenvalues with diagonal entries of A. Explain your findings;"
   ]
  },
  {
   "cell_type": "code",
   "execution_count": 25,
   "metadata": {},
   "outputs": [
    {
     "name": "stdout",
     "output_type": "stream",
     "text": [
      "[0.0 0.0 0.828242; 0.0 0.931243 -0.552161; 1.0 -0.364399 0.0955664]\n",
      "[27.0, 4.0, 1.0]\n",
      "[1, 4, 27]\n"
     ]
    },
    {
     "data": {
      "text/plain": [
       "false"
      ]
     },
     "execution_count": 25,
     "metadata": {},
     "output_type": "execute_result"
    }
   ],
   "source": [
    "A = [1 0 0 ; 2 4 0; 3 9 27]\n",
    "println(eigvecs(A))\n",
    "println(eigvals(A))\n",
    "println(diag(A))\n",
    "eigvals(A)==diag(A)"
   ]
  },
  {
   "cell_type": "markdown",
   "metadata": {},
   "source": [
    "#### 4.2 given the lower triangular matrix A = [1 0 0 ; 2 4 0; 3 9 27], compute and print to screen the new C = A*A. What do you observe about the triangular structure of C. Compute the eigenvalues of C and compare with the diagonal entries;"
   ]
  },
  {
   "cell_type": "code",
   "execution_count": 26,
   "metadata": {},
   "outputs": [
    {
     "name": "stdout",
     "output_type": "stream",
     "text": [
      "[0.0 0.0 0.828242; 0.0 0.931243 -0.552161; 1.0 -0.364399 0.0955664]\n",
      "[729.0, 16.0, 1.0]\n",
      "[1, 16, 729]\n"
     ]
    }
   ],
   "source": [
    "A = [1 0 0 ; 2 4 0; 3 9 27]\n",
    "C = A*A\n",
    "println(eigvecs(C))\n",
    "println(eigvals(C))\n",
    "println(diag(C))"
   ]
  },
  {
   "cell_type": "markdown",
   "metadata": {},
   "source": [
    "#### 4.3 repeat above for C = A*A*A, C=pow(A,3), C=pow(A,4), C = pow(A,5) and C=pow(A,6);  "
   ]
  },
  {
   "cell_type": "code",
   "execution_count": 27,
   "metadata": {},
   "outputs": [
    {
     "name": "stdout",
     "output_type": "stream",
     "text": [
      "[0.0 0.0 0.828242; 0.0 0.931243 -0.552161; 1.0 -0.364399 0.0955664]\n",
      "[19683.0, 64.0, 1.0]\n",
      "[1, 64, 19683]\n",
      "[0.0 0.0 0.828242; 0.0 0.931243 -0.552161; 1.0 -0.364399 0.0955664]\n",
      "[531441.0, 256.0, 1.0]\n",
      "[1, 256, 531441]\n",
      "[0.0 0.0 0.828242; 0.0 0.931243 -0.552161; 1.0 -0.364399 0.0955664]\n",
      "[1.43489e7, 1024.0, 1.0]\n",
      "[1, 1024, 14348907]\n",
      "[0.0 0.0 0.828242; 0.0 0.931243 -0.552161; 1.0 -0.364399 0.0955664]\n",
      "[3.8742e8, 4096.0, 1.0]\n",
      "[1, 4096, 387420489]\n"
     ]
    },
    {
     "data": {
      "text/plain": [
       "false"
      ]
     },
     "execution_count": 27,
     "metadata": {},
     "output_type": "execute_result"
    }
   ],
   "source": [
    "A = [1 0 0 ; 2 4 0; 3 9 27]\n",
    "C3=A^3\n",
    "C4=A^4\n",
    "C5=A^5\n",
    "C6=A^6\n",
    "\n",
    "println(eigvecs(C3))\n",
    "println(eigvals(C3))\n",
    "println(diag(C3))\n",
    "eigvals(C3)==diag(A)\n",
    "\n",
    "\n",
    "println(eigvecs(C4))\n",
    "println(eigvals(C4))\n",
    "println(diag(C4))\n",
    "eigvals(C4)==diag(C4)\n",
    "\n",
    "\n",
    "println(eigvecs(C5))\n",
    "println(eigvals(C5))\n",
    "println(diag(C5))\n",
    "eigvals(C5)==diag(C5)\n",
    "\n",
    "println(eigvecs(C6))\n",
    "println(eigvals(C6))\n",
    "println(diag(C6))\n",
    "eigvals(C6)==diag(C6)"
   ]
  },
  {
   "cell_type": "markdown",
   "metadata": {},
   "source": [
    "#### 4.4 repeat above for the upper triangular matrix A = [1 2 3; 0 4 8; 0 0 27];"
   ]
  },
  {
   "cell_type": "code",
   "execution_count": 28,
   "metadata": {},
   "outputs": [
    {
     "name": "stdout",
     "output_type": "stream",
     "text": [
      "[1.0 0.5547 0.133057; 0.0 0.83205 0.3256; 0.0 0.0 0.936099]\n",
      "[1.0, 64.0, 19683.0]\n",
      "[1, 64, 19683]\n",
      "[1.0 0.5547 0.133057; 0.0 0.83205 0.3256; 0.0 0.0 0.936099]\n",
      "[1.0, 256.0, 531441.0]\n",
      "[1, 256, 531441]\n",
      "[1.0 0.5547 0.133057; 0.0 0.83205 0.3256; 0.0 0.0 0.936099]\n",
      "[1.0, 1024.0, 1.43489e7]\n",
      "[1, 1024, 14348907]\n",
      "[1.0 0.5547 0.133057; 0.0 0.83205 0.3256; 0.0 0.0 0.936099]\n",
      "[1.0, 4096.0, 3.8742e8]\n",
      "[1, 4096, 387420489]\n"
     ]
    },
    {
     "data": {
      "text/plain": [
       "true"
      ]
     },
     "execution_count": 28,
     "metadata": {},
     "output_type": "execute_result"
    }
   ],
   "source": [
    "A = [1 2 3; 0 4 8; 0 0 27];\n",
    "C3=A^3\n",
    "C4=A^4\n",
    "C5=A^5\n",
    "C6=A^6\n",
    "\n",
    "println(eigvecs(C3))\n",
    "println(eigvals(C3))\n",
    "println(diag(C3))\n",
    "eigvals(C3)==diag(A)\n",
    "\n",
    "\n",
    "println(eigvecs(C4))\n",
    "println(eigvals(C4))\n",
    "println(diag(C4))\n",
    "eigvals(C4)==diag(C4)\n",
    "\n",
    "\n",
    "println(eigvecs(C5))\n",
    "println(eigvals(C5))\n",
    "println(diag(C5))\n",
    "eigvals(C5)==diag(C5)\n",
    "\n",
    "println(eigvecs(C6))\n",
    "println(eigvals(C6))\n",
    "println(diag(C6))\n",
    "eigvals(C6)==diag(C6)"
   ]
  },
  {
   "cell_type": "markdown",
   "metadata": {},
   "source": [
    "## 5. Permutation matrices"
   ]
  },
  {
   "cell_type": "markdown",
   "metadata": {},
   "source": [
    "#### 5.1 given the matrix  A = [1 2 3; 2 4 8; 3 9 27] and the vector b = [1; 1; 1], solve the linear system Ax = b for the unknown vector x using the backslash (\\) command (see “help mldivide” for details). Check the answer by computing the product of A and x and comparing the result of this product with the vector b; "
   ]
  },
  {
   "cell_type": "code",
   "execution_count": 34,
   "metadata": {},
   "outputs": [
    {
     "name": "stdout",
     "output_type": "stream",
     "text": [
      "[1.0, 1.0, 1.0]\n",
      "[1.0, 1.0, 1.0]\n",
      "[-2.16667, 2.33333, -0.5]\n"
     ]
    }
   ],
   "source": [
    "A = [1 2 3; 2 4 8; 3 9 27] \n",
    "b = [1.; 1.; 1.]\n",
    "x = A\\b\n",
    "println(A*x)\n",
    "println(b)\n",
    "println(x)"
   ]
  },
  {
   "cell_type": "markdown",
   "metadata": {},
   "source": [
    "#### 5.2 given the matrix  A = [1 2 3; 2 4 8; 3 9 27] and the vector b = [1; 1; 1], compute the LU decomposition of the matrix A using the Matlab function lu (see “help lu”). Next use the matrices L and U to solve the linear system Ax = b for the unknown vector x. Make a plot of the structure of the matrices L and U using the Matlab command spy (see “help spy”).  Explain the matrix structure you observe in L and U. Compare your answer for x with the previous exercise; "
   ]
  },
  {
   "cell_type": "code",
   "execution_count": 4,
   "metadata": {},
   "outputs": [
    {
     "name": "stdout",
     "output_type": "stream",
     "text": [
      "[-2.16667, 2.33333, -0.5]\n"
     ]
    }
   ],
   "source": [
    "A = [1 2 3; 2 4 8; 3 9 27]\n",
    "b = [1; 1; 1]\n",
    "L,U = lu(A)\n",
    "println(L*U\\b)"
   ]
  },
  {
   "cell_type": "code",
   "execution_count": 13,
   "metadata": {},
   "outputs": [
    {
     "data": {
      "image/png": "[encoded data removed]",
      "text/plain": [
       "Figure(PyObject <Figure size 640x480 with 1 Axes>)"
      ]
     },
     "metadata": {},
     "output_type": "display_data"
    },
    {
     "data": {
      "text/plain": [
       "PyObject <matplotlib.lines.Line2D object at 0x13e95d550>"
      ]
     },
     "execution_count": 13,
     "metadata": {},
     "output_type": "execute_result"
    }
   ],
   "source": [
    "PyPlot.spy(sparse(L), markersize = 10)"
   ]
  },
  {
   "cell_type": "code",
   "execution_count": 12,
   "metadata": {},
   "outputs": [
    {
     "data": {
      "image/png": "[encoded data removed]",
      "text/plain": [
       "Figure(PyObject <Figure size 640x480 with 1 Axes>)"
      ]
     },
     "metadata": {},
     "output_type": "display_data"
    },
    {
     "data": {
      "text/plain": [
       "PyObject <matplotlib.lines.Line2D object at 0x13e7950f0>"
      ]
     },
     "execution_count": 12,
     "metadata": {},
     "output_type": "execute_result"
    }
   ],
   "source": [
    "PyPlot.spy(sparse(U), markersize = 10)"
   ]
  },
  {
   "cell_type": "markdown",
   "metadata": {},
   "source": [
    "#### 5.3 : given the matrix  A = [1 2 3; 2 4 8; 3 9 27] and the vector b = [1; 1; 1], compute the inverse of the matrix A using the Matlab command inv (see “help inv”). Use the inverse of A to compute the solution of the linear system A x = b for the unknown x. Compare your answer for x with the previous exercise; "
   ]
  },
  {
   "cell_type": "code",
   "execution_count": 16,
   "metadata": {},
   "outputs": [
    {
     "data": {
      "text/plain": [
       "3-element Array{Float64,1}:\n",
       " -2.166666666666667 \n",
       "  2.3333333333333335\n",
       " -0.5               "
      ]
     },
     "execution_count": 16,
     "metadata": {},
     "output_type": "execute_result"
    }
   ],
   "source": [
    "A = [1 2 3; 2 4 8; 3 9 27] \n",
    "b = [1; 1; 1]\n",
    "A_inv = inv(A)\n",
    "x = A_inv*b"
   ]
  },
  {
   "cell_type": "markdown",
   "metadata": {},
   "source": [
    "#### 5.4 : given the matrices A = [1 2 3; 2 4 8; 3 9 27], B = [1 2 3; 2 4 8; 3 6 9] and C = [1 2 3; 2 4 6; 3 6 9], compute the rank of the matrices A, B and C using the Matlab function rank (see “help rank” for details). Explain your findings"
   ]
  },
  {
   "cell_type": "code",
   "execution_count": 18,
   "metadata": {},
   "outputs": [
    {
     "name": "stdout",
     "output_type": "stream",
     "text": [
      "3\n",
      "2\n",
      "1\n"
     ]
    }
   ],
   "source": [
    "A = [1 2 3; 2 4 8; 3 9 27]\n",
    "B = [1 2 3; 2 4 8; 3 6 9]\n",
    "C = [1 2 3; 2 4 6; 3 6 9]\n",
    "println(rank(A))\n",
    "println(rank(B))\n",
    "println(rank(C))"
   ]
  },
  {
   "cell_type": "markdown",
   "metadata": {},
   "source": [
    "#### 5.5 : given the column vector a = [10; 20; 30] and the column vector b = [.1 ; .2 ;  .3], compute the matrix a*transpose(b); Give the rank of this matrix"
   ]
  },
  {
   "cell_type": "code",
   "execution_count": 19,
   "metadata": {},
   "outputs": [
    {
     "name": "stdout",
     "output_type": "stream",
     "text": [
      "[1.0 2.0 3.0; 2.0 4.0 6.0; 3.0 6.0 9.0]\n",
      "1\n"
     ]
    }
   ],
   "source": [
    "a = [10; 20; 30]\n",
    "b = [.1 ; .2 ; .3]\n",
    "c = a*transpose(b)\n",
    "println(c)\n",
    "println(rank(c))"
   ]
  },
  {
   "cell_type": "markdown",
   "metadata": {},
   "source": [
    "#### 5.6 : given the matrix A = [1 2 3; 2 4 8; 3 9 27] and the vector b = [1;1;1], compute the number transpose(b)*A*b. Compare your answer with sum(sum(A)). Explain your findings"
   ]
  },
  {
   "cell_type": "code",
   "execution_count": 23,
   "metadata": {},
   "outputs": [
    {
     "data": {
      "text/plain": [
       "true"
      ]
     },
     "execution_count": 23,
     "metadata": {},
     "output_type": "execute_result"
    }
   ],
   "source": [
    "A = [1 2 3; 2 4 8; 3 9 27] \n",
    "b = [1;1;1]\n",
    "c = transpose(b)*A*b \n",
    "d = sum(sum(A))\n",
    "c==d"
   ]
  },
  {
   "cell_type": "code",
   "execution_count": 30,
   "metadata": {},
   "outputs": [
    {
     "data": {
      "image/png": "[encoded data removed]",
      "text/plain": [
       "Figure(PyObject <Figure size 640x480 with 1 Axes>)"
      ]
     },
     "metadata": {},
     "output_type": "display_data"
    },
    {
     "data": {
      "text/plain": [
       "PyObject <matplotlib.contour.QuadContourSet object at 0x13f395908>"
      ]
     },
     "execution_count": 30,
     "metadata": {},
     "output_type": "execute_result"
    }
   ],
   "source": [
    "A = [1 2 3; 2 4 8; 3 9 27]\n",
    "PyPlot.contour(A)"
   ]
  },
  {
   "cell_type": "markdown",
   "metadata": {},
   "source": [
    "# 6. Solving a non-linear equation "
   ]
  },
  {
   "cell_type": "markdown",
   "metadata": {},
   "source": [
    "#### The objective of the next exercise is to introduce the young numerical chemical engineering to solving a non-linear equations using the Matlab function fsolve (see “help fsolve”). As example we will consider finding the roots of the characteristic polynomial of a 2-by-2 matrix A. If A = [1 0; 2 3], then the characteristic polynomial of A is given by p(x) = x^2 - 4 * x + 3 = (x-1) * (x-3). As p(x=1) =0 and p(x=3) = 0, the polynomial p(x) has roots x=1 and x=3. These two roots define the eigenvalues of A. The objective of this exercise is to compute the eigenvalues of A using the Matlab function fsolve (in practice more efficient numerical linear algebra methods do exist). This exercise consists of three of steps :  \n",
    "#### Step 1/3: constructing the characteristic polynomial: given the matrix A = [1 0; 2 3], the Matlab function poly (see “help poly”) computes the coefficient of the characteric polynomial of A. Assume that pc = polyI(A); \n"
   ]
  },
  {
   "cell_type": "code",
   "execution_count": 37,
   "metadata": {},
   "outputs": [
    {
     "data": {
      "text/html": [
       "3.0 &#45; 4.0&#8729;x &#43; 1.0&#8729;x^2"
      ],
      "text/latex": [
       "$3.0 - 4.0\\cdot x + 1.0\\cdot x^{2}$"
      ],
      "text/plain": [
       "Poly(3.0 - 4.0*x + 1.0*x^2)"
      ]
     },
     "execution_count": 37,
     "metadata": {},
     "output_type": "execute_result"
    }
   ],
   "source": [
    "using Polynomials\n",
    "A = [1 0; 2 3]\n",
    "pc = poly(A)"
   ]
  },
  {
   "cell_type": "markdown",
   "metadata": {},
   "source": [
    "#### Step 2/3: Plotting the characteristic polynomial: the Matlab function polyval (see help polyval) allows to evaluate a polynomial. This function requires two input values. The call polyval(pc,x) evaluates the polynomial defined by pc in the input argument x. To plot the characteristic polynomial of A, we will define first an anonymous function myfun = @(x)polyval(pc,x). Then myfun(x) = polyeval(pc,x) (the argument pc in hidden in the definition of myfun). Next we set xx = [0:0.01:5] and yy = myfun(xx) and call plot(xx,yy); \n"
   ]
  },
  {
   "cell_type": "code",
   "execution_count": 49,
   "metadata": {},
   "outputs": [
    {
     "data": {
      "image/svg+xml": [
       "<?xml version=\"1.0\" encoding=\"utf-8\"?>\n",
       "<svg xmlns=\"http://www.w3.org/2000/svg\" xmlns:xlink=\"http://www.w3.org/1999/xlink\" width=\"600\" height=\"400\" viewBox=\"0 0 2400 1600\">\n",
       "<defs>\n",
       "  <clipPath id=\"clip4100\">\n",
       "    <rect x=\"0\" y=\"0\" width=\"2000\" height=\"2000\"/>\n",
       "  </clipPath>\n",
       "</defs>\n",
       "<defs>\n",
       "  <clipPath id=\"clip4101\">\n",
       "    <rect x=\"0\" y=\"0\" width=\"2400\" height=\"1600\"/>\n",
       "  </clipPath>\n",
       "</defs>\n",
       "<polygon clip-path=\"url(#clip4101)\" points=\"\n",
       "0,1600 2400,1600 2400,0 0,0 \n",
       "  \" fill=\"#ffffff\" fill-rule=\"evenodd\" fill-opacity=\"1\"/>\n",
       "<defs>\n",
       "  <clipPath id=\"clip4102\">\n",
       "    <rect x=\"480\" y=\"0\" width=\"1681\" height=\"1600\"/>\n",
       "  </clipPath>\n",
       "</defs>\n",
       "<polygon clip-path=\"url(#clip4101)\" points=\"\n",
       "184.243,1440.48 2321.26,1440.48 2321.26,125.984 184.243,125.984 \n",
       "  \" fill=\"#ffffff\" fill-rule=\"evenodd\" fill-opacity=\"1\"/>\n",
       "<defs>\n",
       "  <clipPath id=\"clip4103\">\n",
       "    <rect x=\"184\" y=\"125\" width=\"2138\" height=\"1315\"/>\n",
       "  </clipPath>\n",
       "</defs>\n",
       "<polyline clip-path=\"url(#clip4103)\" style=\"stroke:#000000; stroke-width:2; stroke-opacity:0.1; fill:none\" points=\"\n",
       "  244.724,1440.48 244.724,125.984 \n",
       "  \"/>\n",
       "<polyline clip-path=\"url(#clip4103)\" style=\"stroke:#000000; stroke-width:2; stroke-opacity:0.1; fill:none\" points=\"\n",
       "  647.935,1440.48 647.935,125.984 \n",
       "  \"/>\n",
       "<polyline clip-path=\"url(#clip4103)\" style=\"stroke:#000000; stroke-width:2; stroke-opacity:0.1; fill:none\" points=\"\n",
       "  1051.15,1440.48 1051.15,125.984 \n",
       "  \"/>\n",
       "<polyline clip-path=\"url(#clip4103)\" style=\"stroke:#000000; stroke-width:2; stroke-opacity:0.1; fill:none\" points=\"\n",
       "  1454.36,1440.48 1454.36,125.984 \n",
       "  \"/>\n",
       "<polyline clip-path=\"url(#clip4103)\" style=\"stroke:#000000; stroke-width:2; stroke-opacity:0.1; fill:none\" points=\"\n",
       "  1857.57,1440.48 1857.57,125.984 \n",
       "  \"/>\n",
       "<polyline clip-path=\"url(#clip4103)\" style=\"stroke:#000000; stroke-width:2; stroke-opacity:0.1; fill:none\" points=\"\n",
       "  2260.78,1440.48 2260.78,125.984 \n",
       "  \"/>\n",
       "<polyline clip-path=\"url(#clip4103)\" style=\"stroke:#000000; stroke-width:2; stroke-opacity:0.1; fill:none\" points=\"\n",
       "  184.243,1265.49 2321.26,1265.49 \n",
       "  \"/>\n",
       "<polyline clip-path=\"url(#clip4103)\" style=\"stroke:#000000; stroke-width:2; stroke-opacity:0.1; fill:none\" points=\"\n",
       "  184.243,989.916 2321.26,989.916 \n",
       "  \"/>\n",
       "<polyline clip-path=\"url(#clip4103)\" style=\"stroke:#000000; stroke-width:2; stroke-opacity:0.1; fill:none\" points=\"\n",
       "  184.243,714.339 2321.26,714.339 \n",
       "  \"/>\n",
       "<polyline clip-path=\"url(#clip4103)\" style=\"stroke:#000000; stroke-width:2; stroke-opacity:0.1; fill:none\" points=\"\n",
       "  184.243,438.763 2321.26,438.763 \n",
       "  \"/>\n",
       "<polyline clip-path=\"url(#clip4103)\" style=\"stroke:#000000; stroke-width:2; stroke-opacity:0.1; fill:none\" points=\"\n",
       "  184.243,163.187 2321.26,163.187 \n",
       "  \"/>\n",
       "<polyline clip-path=\"url(#clip4101)\" style=\"stroke:#000000; stroke-width:4; stroke-opacity:1; fill:none\" points=\"\n",
       "  184.243,1440.48 2321.26,1440.48 \n",
       "  \"/>\n",
       "<polyline clip-path=\"url(#clip4101)\" style=\"stroke:#000000; stroke-width:4; stroke-opacity:1; fill:none\" points=\"\n",
       "  184.243,1440.48 184.243,125.984 \n",
       "  \"/>\n",
       "<polyline clip-path=\"url(#clip4101)\" style=\"stroke:#000000; stroke-width:4; stroke-opacity:1; fill:none\" points=\"\n",
       "  244.724,1440.48 244.724,1420.77 \n",
       "  \"/>\n",
       "<polyline clip-path=\"url(#clip4101)\" style=\"stroke:#000000; stroke-width:4; stroke-opacity:1; fill:none\" points=\"\n",
       "  647.935,1440.48 647.935,1420.77 \n",
       "  \"/>\n",
       "<polyline clip-path=\"url(#clip4101)\" style=\"stroke:#000000; stroke-width:4; stroke-opacity:1; fill:none\" points=\"\n",
       "  1051.15,1440.48 1051.15,1420.77 \n",
       "  \"/>\n",
       "<polyline clip-path=\"url(#clip4101)\" style=\"stroke:#000000; stroke-width:4; stroke-opacity:1; fill:none\" points=\"\n",
       "  1454.36,1440.48 1454.36,1420.77 \n",
       "  \"/>\n",
       "<polyline clip-path=\"url(#clip4101)\" style=\"stroke:#000000; stroke-width:4; stroke-opacity:1; fill:none\" points=\"\n",
       "  1857.57,1440.48 1857.57,1420.77 \n",
       "  \"/>\n",
       "<polyline clip-path=\"url(#clip4101)\" style=\"stroke:#000000; stroke-width:4; stroke-opacity:1; fill:none\" points=\"\n",
       "  2260.78,1440.48 2260.78,1420.77 \n",
       "  \"/>\n",
       "<polyline clip-path=\"url(#clip4101)\" style=\"stroke:#000000; stroke-width:4; stroke-opacity:1; fill:none\" points=\"\n",
       "  184.243,1265.49 216.298,1265.49 \n",
       "  \"/>\n",
       "<polyline clip-path=\"url(#clip4101)\" style=\"stroke:#000000; stroke-width:4; stroke-opacity:1; fill:none\" points=\"\n",
       "  184.243,989.916 216.298,989.916 \n",
       "  \"/>\n",
       "<polyline clip-path=\"url(#clip4101)\" style=\"stroke:#000000; stroke-width:4; stroke-opacity:1; fill:none\" points=\"\n",
       "  184.243,714.339 216.298,714.339 \n",
       "  \"/>\n",
       "<polyline clip-path=\"url(#clip4101)\" style=\"stroke:#000000; stroke-width:4; stroke-opacity:1; fill:none\" points=\"\n",
       "  184.243,438.763 216.298,438.763 \n",
       "  \"/>\n",
       "<polyline clip-path=\"url(#clip4101)\" style=\"stroke:#000000; stroke-width:4; stroke-opacity:1; fill:none\" points=\"\n",
       "  184.243,163.187 216.298,163.187 \n",
       "  \"/>\n",
       "<g clip-path=\"url(#clip4101)\">\n",
       "<text style=\"fill:#000000; fill-opacity:1; font-family:Arial,Helvetica Neue,Helvetica,sans-serif; font-size:48px; text-anchor:middle;\" transform=\"rotate(0, 244.724, 1494.48)\" x=\"244.724\" y=\"1494.48\">0</text>\n",
       "</g>\n",
       "<g clip-path=\"url(#clip4101)\">\n",
       "<text style=\"fill:#000000; fill-opacity:1; font-family:Arial,Helvetica Neue,Helvetica,sans-serif; font-size:48px; text-anchor:middle;\" transform=\"rotate(0, 647.935, 1494.48)\" x=\"647.935\" y=\"1494.48\">1</text>\n",
       "</g>\n",
       "<g clip-path=\"url(#clip4101)\">\n",
       "<text style=\"fill:#000000; fill-opacity:1; font-family:Arial,Helvetica Neue,Helvetica,sans-serif; font-size:48px; text-anchor:middle;\" transform=\"rotate(0, 1051.15, 1494.48)\" x=\"1051.15\" y=\"1494.48\">2</text>\n",
       "</g>\n",
       "<g clip-path=\"url(#clip4101)\">\n",
       "<text style=\"fill:#000000; fill-opacity:1; font-family:Arial,Helvetica Neue,Helvetica,sans-serif; font-size:48px; text-anchor:middle;\" transform=\"rotate(0, 1454.36, 1494.48)\" x=\"1454.36\" y=\"1494.48\">3</text>\n",
       "</g>\n",
       "<g clip-path=\"url(#clip4101)\">\n",
       "<text style=\"fill:#000000; fill-opacity:1; font-family:Arial,Helvetica Neue,Helvetica,sans-serif; font-size:48px; text-anchor:middle;\" transform=\"rotate(0, 1857.57, 1494.48)\" x=\"1857.57\" y=\"1494.48\">4</text>\n",
       "</g>\n",
       "<g clip-path=\"url(#clip4101)\">\n",
       "<text style=\"fill:#000000; fill-opacity:1; font-family:Arial,Helvetica Neue,Helvetica,sans-serif; font-size:48px; text-anchor:middle;\" transform=\"rotate(0, 2260.78, 1494.48)\" x=\"2260.78\" y=\"1494.48\">5</text>\n",
       "</g>\n",
       "<g clip-path=\"url(#clip4101)\">\n",
       "<text style=\"fill:#000000; fill-opacity:1; font-family:Arial,Helvetica Neue,Helvetica,sans-serif; font-size:48px; text-anchor:end;\" transform=\"rotate(0, 160.243, 1282.99)\" x=\"160.243\" y=\"1282.99\">0</text>\n",
       "</g>\n",
       "<g clip-path=\"url(#clip4101)\">\n",
       "<text style=\"fill:#000000; fill-opacity:1; font-family:Arial,Helvetica Neue,Helvetica,sans-serif; font-size:48px; text-anchor:end;\" transform=\"rotate(0, 160.243, 1007.42)\" x=\"160.243\" y=\"1007.42\">2</text>\n",
       "</g>\n",
       "<g clip-path=\"url(#clip4101)\">\n",
       "<text style=\"fill:#000000; fill-opacity:1; font-family:Arial,Helvetica Neue,Helvetica,sans-serif; font-size:48px; text-anchor:end;\" transform=\"rotate(0, 160.243, 731.839)\" x=\"160.243\" y=\"731.839\">4</text>\n",
       "</g>\n",
       "<g clip-path=\"url(#clip4101)\">\n",
       "<text style=\"fill:#000000; fill-opacity:1; font-family:Arial,Helvetica Neue,Helvetica,sans-serif; font-size:48px; text-anchor:end;\" transform=\"rotate(0, 160.243, 456.263)\" x=\"160.243\" y=\"456.263\">6</text>\n",
       "</g>\n",
       "<g clip-path=\"url(#clip4101)\">\n",
       "<text style=\"fill:#000000; fill-opacity:1; font-family:Arial,Helvetica Neue,Helvetica,sans-serif; font-size:48px; text-anchor:end;\" transform=\"rotate(0, 160.243, 180.687)\" x=\"160.243\" y=\"180.687\">8</text>\n",
       "</g>\n",
       "<g clip-path=\"url(#clip4101)\">\n",
       "<text style=\"fill:#000000; fill-opacity:1; font-family:Arial,Helvetica Neue,Helvetica,sans-serif; font-size:84px; text-anchor:middle;\" transform=\"rotate(0, 1252.75, 73.2)\" x=\"1252.75\" y=\"73.2\">Polynomial Graph</text>\n",
       "</g>\n",
       "<g clip-path=\"url(#clip4101)\">\n",
       "<text style=\"fill:#000000; fill-opacity:1; font-family:Arial,Helvetica Neue,Helvetica,sans-serif; font-size:66px; text-anchor:middle;\" transform=\"rotate(0, 1252.75, 1590.4)\" x=\"1252.75\" y=\"1590.4\">x</text>\n",
       "</g>\n",
       "<g clip-path=\"url(#clip4101)\">\n",
       "<text style=\"fill:#000000; fill-opacity:1; font-family:Arial,Helvetica Neue,Helvetica,sans-serif; font-size:66px; text-anchor:middle;\" transform=\"rotate(-90, 57.6, 783.233)\" x=\"57.6\" y=\"783.233\">f(x)</text>\n",
       "</g>\n",
       "<polyline clip-path=\"url(#clip4103)\" style=\"stroke:#009af9; stroke-width:4; stroke-opacity:1; fill:none\" points=\"\n",
       "  244.724,852.127 248.756,857.625 252.788,863.095 256.821,868.538 260.853,873.953 264.885,879.341 268.917,884.701 272.949,890.033 276.981,895.338 281.013,900.615 \n",
       "  285.045,905.865 289.077,911.087 293.11,916.282 297.142,921.449 301.174,926.588 305.206,931.7 309.238,936.784 313.27,941.841 317.302,946.871 321.334,951.872 \n",
       "  325.366,956.846 329.399,961.793 333.431,966.712 337.463,971.604 341.495,976.467 345.527,981.304 349.559,986.113 353.591,990.894 357.623,995.648 361.655,1000.37 \n",
       "  365.688,1005.07 369.72,1009.74 373.752,1014.39 377.784,1019 381.816,1023.59 385.848,1028.15 389.88,1032.68 393.912,1037.19 397.944,1041.67 401.976,1046.12 \n",
       "  406.009,1050.54 410.041,1054.94 414.073,1059.31 418.105,1063.65 422.137,1067.96 426.169,1072.24 430.201,1076.5 434.233,1080.73 438.265,1084.93 442.298,1089.11 \n",
       "  446.33,1093.26 450.362,1097.38 454.394,1101.47 458.426,1105.53 462.458,1109.57 466.49,1113.58 470.522,1117.56 474.554,1121.52 478.587,1125.44 482.619,1129.34 \n",
       "  486.651,1133.22 490.683,1137.06 494.715,1140.88 498.747,1144.67 502.779,1148.43 506.811,1152.16 510.843,1155.87 514.876,1159.55 518.908,1163.2 522.94,1166.82 \n",
       "  526.972,1170.42 531.004,1173.99 535.036,1177.53 539.068,1181.04 543.1,1184.53 547.132,1187.99 551.164,1191.42 555.197,1194.82 559.229,1198.2 563.261,1201.54 \n",
       "  567.293,1204.86 571.325,1208.16 575.357,1211.42 579.389,1214.66 583.421,1217.87 587.453,1221.06 591.486,1224.21 595.518,1227.34 599.55,1230.44 603.582,1233.51 \n",
       "  607.614,1236.56 611.646,1239.57 615.678,1242.56 619.71,1245.53 623.742,1248.46 627.775,1251.37 631.807,1254.25 635.839,1257.1 639.871,1259.93 643.903,1262.72 \n",
       "  647.935,1265.49 651.967,1268.23 655.999,1270.95 660.031,1273.64 664.063,1276.29 668.096,1278.93 672.128,1281.53 676.16,1284.11 680.192,1286.66 684.224,1289.18 \n",
       "  688.256,1291.67 692.288,1294.14 696.32,1296.58 700.352,1298.99 704.385,1301.37 708.417,1303.73 712.449,1306.06 716.481,1308.36 720.513,1310.63 724.545,1312.88 \n",
       "  728.577,1315.1 732.609,1317.29 736.641,1319.45 740.674,1321.59 744.706,1323.69 748.738,1325.77 752.77,1327.83 756.802,1329.85 760.834,1331.85 764.866,1333.82 \n",
       "  768.898,1335.76 772.93,1337.68 776.963,1339.57 780.995,1341.43 785.027,1343.26 789.059,1345.06 793.091,1346.84 797.123,1348.59 801.155,1350.31 805.187,1352.01 \n",
       "  809.219,1353.68 813.251,1355.32 817.284,1356.93 821.316,1358.51 825.348,1360.07 829.38,1361.6 833.412,1363.1 837.444,1364.58 841.476,1366.02 845.508,1367.44 \n",
       "  849.54,1368.83 853.573,1370.2 857.605,1371.53 861.637,1372.84 865.669,1374.12 869.701,1375.38 873.733,1376.6 877.765,1377.8 881.797,1378.97 885.829,1380.12 \n",
       "  889.862,1381.23 893.894,1382.32 897.926,1383.38 901.958,1384.42 905.99,1385.42 910.022,1386.4 914.054,1387.35 918.086,1388.27 922.118,1389.17 926.151,1390.04 \n",
       "  930.183,1390.88 934.215,1391.69 938.247,1392.48 942.279,1393.24 946.311,1393.97 950.343,1394.67 954.375,1395.34 958.407,1395.99 962.439,1396.61 966.472,1397.2 \n",
       "  970.504,1397.77 974.536,1398.31 978.568,1398.82 982.6,1399.3 986.632,1399.75 990.664,1400.18 994.696,1400.58 998.728,1400.95 1002.76,1401.3 1006.79,1401.61 \n",
       "  1010.82,1401.9 1014.86,1402.16 1018.89,1402.4 1022.92,1402.6 1026.95,1402.78 1030.99,1402.94 1035.02,1403.06 1039.05,1403.16 1043.08,1403.22 1047.11,1403.27 \n",
       "  1051.15,1403.28 1055.18,1403.27 1059.21,1403.22 1063.24,1403.16 1067.27,1403.06 1071.31,1402.94 1075.34,1402.78 1079.37,1402.6 1083.4,1402.4 1087.43,1402.16 \n",
       "  1091.47,1401.9 1095.5,1401.61 1099.53,1401.3 1103.56,1400.95 1107.6,1400.58 1111.63,1400.18 1115.66,1399.75 1119.69,1399.3 1123.72,1398.82 1127.76,1398.31 \n",
       "  1131.79,1397.77 1135.82,1397.2 1139.85,1396.61 1143.88,1395.99 1147.92,1395.34 1151.95,1394.67 1155.98,1393.97 1160.01,1393.24 1164.04,1392.48 1168.08,1391.69 \n",
       "  1172.11,1390.88 1176.14,1390.04 1180.17,1389.17 1184.21,1388.27 1188.24,1387.35 1192.27,1386.4 1196.3,1385.42 1200.33,1384.42 1204.37,1383.38 1208.4,1382.32 \n",
       "  1212.43,1381.23 1216.46,1380.12 1220.49,1378.97 1224.53,1377.8 1228.56,1376.6 1232.59,1375.38 1236.62,1374.12 1240.65,1372.84 1244.69,1371.53 1248.72,1370.2 \n",
       "  1252.75,1368.83 1256.78,1367.44 1260.82,1366.02 1264.85,1364.58 1268.88,1363.1 1272.91,1361.6 1276.94,1360.07 1280.98,1358.51 1285.01,1356.93 1289.04,1355.32 \n",
       "  1293.07,1353.68 1297.1,1352.01 1301.14,1350.31 1305.17,1348.59 1309.2,1346.84 1313.23,1345.06 1317.26,1343.26 1321.3,1341.43 1325.33,1339.57 1329.36,1337.68 \n",
       "  1333.39,1335.76 1337.43,1333.82 1341.46,1331.85 1345.49,1329.85 1349.52,1327.83 1353.55,1325.77 1357.59,1323.69 1361.62,1321.59 1365.65,1319.45 1369.68,1317.29 \n",
       "  1373.71,1315.1 1377.75,1312.88 1381.78,1310.63 1385.81,1308.36 1389.84,1306.06 1393.88,1303.73 1397.91,1301.37 1401.94,1298.99 1405.97,1296.58 1410,1294.14 \n",
       "  1414.04,1291.67 1418.07,1289.18 1422.1,1286.66 1426.13,1284.11 1430.16,1281.53 1434.2,1278.93 1438.23,1276.29 1442.26,1273.64 1446.29,1270.95 1450.32,1268.23 \n",
       "  1454.36,1265.49 1458.39,1262.72 1462.42,1259.93 1466.45,1257.1 1470.49,1254.25 1474.52,1251.37 1478.55,1248.46 1482.58,1245.53 1486.61,1242.56 1490.65,1239.57 \n",
       "  1494.68,1236.56 1498.71,1233.51 1502.74,1230.44 1506.77,1227.34 1510.81,1224.21 1514.84,1221.06 1518.87,1217.87 1522.9,1214.66 1526.93,1211.42 1530.97,1208.16 \n",
       "  1535,1204.86 1539.03,1201.54 1543.06,1198.2 1547.1,1194.82 1551.13,1191.42 1555.16,1187.99 1559.19,1184.53 1563.22,1181.04 1567.26,1177.53 1571.29,1173.99 \n",
       "  1575.32,1170.42 1579.35,1166.82 1583.38,1163.2 1587.42,1159.55 1591.45,1155.87 1595.48,1152.16 1599.51,1148.43 1603.54,1144.67 1607.58,1140.88 1611.61,1137.06 \n",
       "  1615.64,1133.22 1619.67,1129.34 1623.71,1125.44 1627.74,1121.52 1631.77,1117.56 1635.8,1113.58 1639.83,1109.57 1643.87,1105.53 1647.9,1101.47 1651.93,1097.38 \n",
       "  1655.96,1093.26 1659.99,1089.11 1664.03,1084.93 1668.06,1080.73 1672.09,1076.5 1676.12,1072.24 1680.15,1067.96 1684.19,1063.65 1688.22,1059.31 1692.25,1054.94 \n",
       "  1696.28,1050.54 1700.32,1046.12 1704.35,1041.67 1708.38,1037.19 1712.41,1032.68 1716.44,1028.15 1720.48,1023.59 1724.51,1019 1728.54,1014.39 1732.57,1009.74 \n",
       "  1736.6,1005.07 1740.64,1000.37 1744.67,995.648 1748.7,990.894 1752.73,986.113 1756.76,981.304 1760.8,976.467 1764.83,971.604 1768.86,966.712 1772.89,961.793 \n",
       "  1776.93,956.846 1780.96,951.872 1784.99,946.871 1789.02,941.841 1793.05,936.784 1797.09,931.7 1801.12,926.588 1805.15,921.449 1809.18,916.282 1813.21,911.087 \n",
       "  1817.25,905.865 1821.28,900.615 1825.31,895.338 1829.34,890.033 1833.37,884.701 1837.41,879.341 1841.44,873.953 1845.47,868.538 1849.5,863.095 1853.54,857.625 \n",
       "  1857.57,852.127 1861.6,846.602 1865.63,841.049 1869.66,835.469 1873.7,829.861 1877.73,824.225 1881.76,818.562 1885.79,812.872 1889.82,807.153 1893.86,801.408 \n",
       "  1897.89,795.634 1901.92,789.833 1905.95,784.005 1909.98,778.149 1914.02,772.265 1918.05,766.354 1922.08,760.416 1926.11,754.449 1930.15,748.456 1934.18,742.434 \n",
       "  1938.21,736.385 1942.24,730.309 1946.27,724.205 1950.31,718.073 1954.34,711.914 1958.37,705.728 1962.4,699.513 1966.43,693.272 1970.47,687.002 1974.5,680.705 \n",
       "  1978.53,674.381 1982.56,668.029 1986.59,661.649 1990.63,655.242 1994.66,648.807 1998.69,642.345 2002.72,635.855 2006.76,629.338 2010.79,622.793 2014.82,616.22 \n",
       "  2018.85,609.62 2022.88,602.993 2026.92,596.338 2030.95,589.655 2034.98,582.945 2039.01,576.207 2043.04,569.441 2047.08,562.648 2051.11,555.828 2055.14,548.98 \n",
       "  2059.17,542.104 2063.2,535.201 2067.24,528.27 2071.27,521.312 2075.3,514.326 2079.33,507.313 2083.37,500.272 2087.4,493.203 2091.43,486.107 2095.46,478.984 \n",
       "  2099.49,471.832 2103.53,464.654 2107.56,457.447 2111.59,450.213 2115.62,442.952 2119.65,435.663 2123.69,428.346 2127.72,421.002 2131.75,413.631 2135.78,406.231 \n",
       "  2139.81,398.805 2143.85,391.35 2147.88,383.868 2151.91,376.359 2155.94,368.822 2159.98,361.257 2164.01,353.665 2168.04,346.046 2172.07,338.398 2176.1,330.724 \n",
       "  2180.14,323.021 2184.17,315.291 2188.2,307.534 2192.23,299.749 2196.26,291.936 2200.3,284.096 2204.33,276.228 2208.36,268.333 2212.39,260.41 2216.43,252.46 \n",
       "  2220.46,244.482 2224.49,236.477 2228.52,228.443 2232.55,220.383 2236.59,212.295 2240.62,204.179 2244.65,196.036 2248.68,187.865 2252.71,179.666 2256.75,171.441 \n",
       "  2260.78,163.187 \n",
       "  \"/>\n",
       "<circle clip-path=\"url(#clip4103)\" style=\"fill:#000000; stroke:none; fill-opacity:1\" cx=\"244.724\" cy=\"852.127\" r=\"25\"/>\n",
       "<circle clip-path=\"url(#clip4103)\" style=\"fill:#ffa500; stroke:none; fill-opacity:1\" cx=\"244.724\" cy=\"852.127\" r=\"21\"/>\n",
       "<circle clip-path=\"url(#clip4103)\" style=\"fill:#000000; stroke:none; fill-opacity:1\" cx=\"2260.78\" cy=\"163.187\" r=\"25\"/>\n",
       "<circle clip-path=\"url(#clip4103)\" style=\"fill:#ffa500; stroke:none; fill-opacity:1\" cx=\"2260.78\" cy=\"163.187\" r=\"21\"/>\n",
       "<circle clip-path=\"url(#clip4103)\" style=\"fill:#000000; stroke:none; fill-opacity:1\" cx=\"1454.36\" cy=\"1265.49\" r=\"25\"/>\n",
       "<circle clip-path=\"url(#clip4103)\" style=\"fill:#ff0000; stroke:none; fill-opacity:1\" cx=\"1454.36\" cy=\"1265.49\" r=\"21\"/>\n",
       "<circle clip-path=\"url(#clip4103)\" style=\"fill:#000000; stroke:none; fill-opacity:1\" cx=\"647.935\" cy=\"1265.49\" r=\"25\"/>\n",
       "<circle clip-path=\"url(#clip4103)\" style=\"fill:#ff0000; stroke:none; fill-opacity:1\" cx=\"647.935\" cy=\"1265.49\" r=\"21\"/>\n",
       "<polygon clip-path=\"url(#clip4101)\" points=\"\n",
       "1958.43,451.424 2249.26,451.424 2249.26,209.504 1958.43,209.504 \n",
       "  \" fill=\"#ffffff\" fill-rule=\"evenodd\" fill-opacity=\"1\"/>\n",
       "<polyline clip-path=\"url(#clip4101)\" style=\"stroke:#000000; stroke-width:4; stroke-opacity:1; fill:none\" points=\"\n",
       "  1958.43,451.424 2249.26,451.424 2249.26,209.504 1958.43,209.504 1958.43,451.424 \n",
       "  \"/>\n",
       "<polyline clip-path=\"url(#clip4101)\" style=\"stroke:#009af9; stroke-width:4; stroke-opacity:1; fill:none\" points=\"\n",
       "  1982.43,269.984 2126.43,269.984 \n",
       "  \"/>\n",
       "<g clip-path=\"url(#clip4101)\">\n",
       "<text style=\"fill:#000000; fill-opacity:1; font-family:Arial,Helvetica Neue,Helvetica,sans-serif; font-size:48px; text-anchor:start;\" transform=\"rotate(0, 2150.43, 287.484)\" x=\"2150.43\" y=\"287.484\">y1</text>\n",
       "</g>\n",
       "<circle clip-path=\"url(#clip4101)\" style=\"fill:#000000; stroke:none; fill-opacity:1\" cx=\"2066.43\" cy=\"330.464\" r=\"25\"/>\n",
       "<circle clip-path=\"url(#clip4101)\" style=\"fill:#ffa500; stroke:none; fill-opacity:1\" cx=\"2066.43\" cy=\"330.464\" r=\"21\"/>\n",
       "<g clip-path=\"url(#clip4101)\">\n",
       "<text style=\"fill:#000000; fill-opacity:1; font-family:Arial,Helvetica Neue,Helvetica,sans-serif; font-size:48px; text-anchor:start;\" transform=\"rotate(0, 2150.43, 347.964)\" x=\"2150.43\" y=\"347.964\">y2</text>\n",
       "</g>\n",
       "<circle clip-path=\"url(#clip4101)\" style=\"fill:#000000; stroke:none; fill-opacity:1\" cx=\"2066.43\" cy=\"390.944\" r=\"25\"/>\n",
       "<circle clip-path=\"url(#clip4101)\" style=\"fill:#ff0000; stroke:none; fill-opacity:1\" cx=\"2066.43\" cy=\"390.944\" r=\"21\"/>\n",
       "<g clip-path=\"url(#clip4101)\">\n",
       "<text style=\"fill:#000000; fill-opacity:1; font-family:Arial,Helvetica Neue,Helvetica,sans-serif; font-size:48px; text-anchor:start;\" transform=\"rotate(0, 2150.43, 408.444)\" x=\"2150.43\" y=\"408.444\">y3</text>\n",
       "</g>\n",
       "</svg>\n"
      ]
     },
     "execution_count": 49,
     "metadata": {},
     "output_type": "execute_result"
    }
   ],
   "source": [
    "xx = [0:0.01:5]\n",
    "yy = polyval(pc,xx)\n",
    "plot(xx,yy,xlabel = \"x\",ylabel = \"f(x)\",title=\"Polynomial Graph\",linestyle=:auto)\n",
    "scatter!([0,5],[polyval(pc,0),polyval(pc,5)], markersize=6, c=:orange)\n",
    "scatter!(roots(pc),[0,0], markersize=6, c=:red)"
   ]
  },
  {
   "cell_type": "markdown",
   "metadata": {},
   "source": [
    "#### Step 3/3: Finding the zero of the characteristic polynomial. The roots of the characteric polynomial can now be found using the fsolve function. Try fsolve(myfun,0) and fsolve(myfun,5) and compare the answers found. "
   ]
  },
  {
   "cell_type": "code",
   "execution_count": 47,
   "metadata": {},
   "outputs": [
    {
     "name": "stdout",
     "output_type": "stream",
     "text": [
      "[3.0, 1.0]\n",
      "3.0\n",
      "8.0\n"
     ]
    }
   ],
   "source": [
    "println(roots(pc))"
   ]
  }
 ],
 "metadata": {
  "kernelspec": {
   "display_name": "Julia 1.1.0",
   "language": "julia",
   "name": "julia-1.1"
  },
  "language_info": {
   "file_extension": ".jl",
   "mimetype": "application/julia",
   "name": "julia",
   "version": "1.1.0"
  }
 },
 "nbformat": 4,
 "nbformat_minor": 2
}
